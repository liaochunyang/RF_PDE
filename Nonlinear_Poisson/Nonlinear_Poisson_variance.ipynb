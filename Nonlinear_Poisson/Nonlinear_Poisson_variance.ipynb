{
 "cells": [
  {
   "cell_type": "markdown",
   "metadata": {},
   "source": [
    "# High dimensional nonlinear Poisson\n",
    "\n",
    "We consider the nonlinear Poisson PDE\n",
    "$$ -\\nabla\\cdot (a(u)\\nabla u) = f(x), \\quad x\\in\\Omega$$\n",
    "$$ u(x) = g(x), \\quad x\\in\\partial\\Omega,$$\n",
    "where $a(u)=u^3-u$ and $\\Omega=[-1,1]^d$. The true solution is $u(x)=\\exp(-\\frac{1}{d}\\sum_{i=1}^dx_i)$, and the function $f(x)$ is computed using the true solution $u(x)$."
   ]
  },
  {
   "cell_type": "code",
   "execution_count": 1,
   "metadata": {},
   "outputs": [],
   "source": [
    "import torch\n",
    "import torch.nn as nn\n",
    "import torch.optim as optim\n",
    "\n",
    "import numpy as np\n",
    "import matplotlib.pyplot as plt\n",
    "\n",
    "import time\n",
    "\n",
    "torch.set_default_dtype(torch.float64)"
   ]
  },
  {
   "cell_type": "code",
   "execution_count": 2,
   "metadata": {},
   "outputs": [],
   "source": [
    "def sample_points(N_pts, d):\n",
    "    \"\"\"\n",
    "    Generate training samples.\n",
    "    \"\"\"\n",
    "    # interior points\n",
    "    N_domain_tot = N_pts**2\n",
    "    x_int = 2 * torch.rand(N_domain_tot, d, requires_grad=True) - 1\n",
    "    \n",
    "    # boundary\n",
    "    x_bd = np.random.normal(-1,1,size=(4*N_pts,d))\n",
    "    x_bd_norm = np.linalg.norm(x_bd, axis=1, ord=np.inf) \n",
    "    x_bd = x_bd / x_bd_norm.reshape((4*N_pts,1))\n",
    "    x_bd = torch.from_numpy(x_bd)\n",
    "    \n",
    "    return x_int, x_bd\n",
    "\n",
    "def u_true(x):\n",
    "    \"\"\"\n",
    "    True function.\n",
    "    \"\"\"\n",
    "    d = x.shape[1]\n",
    "    return torch.exp( -x.sum(dim=1) / d )\n",
    "\n",
    "def f(x):\n",
    "    \"\"\"\n",
    "    Right-hand side.\n",
    "    \"\"\"\n",
    "    d = x.shape[1]\n",
    "    \n",
    "    return (-3*u_true(x)**3 + 2*u_true(x)**2) / d\n",
    "\n",
    "def g(x):\n",
    "    \"\"\"\n",
    "    Boundary condition.\n",
    "    \"\"\"\n",
    "    return u_true(x)"
   ]
  },
  {
   "cell_type": "code",
   "execution_count": 3,
   "metadata": {},
   "outputs": [],
   "source": [
    "class RF_PDE(nn.Module):\n",
    "    \"\"\"\n",
    "    Random Feature model.\n",
    "    \"\"\"\n",
    "    def __init__(self, in_features, out_features, sigma=1.0):\n",
    "        super(RF_PDE, self).__init__()\n",
    "        \n",
    "        self.in_features = in_features\n",
    "        self.out_features = out_features\n",
    "        self.sigma = sigma\n",
    "        self.W = nn.Parameter(torch.randn(in_features, out_features) / sigma)\n",
    "        self.b = nn.Parameter(torch.rand(out_features) * 2 * torch.pi)\n",
    "        \n",
    "        self.model = nn.Sequential(nn.Linear(out_features, 1))\n",
    "\n",
    "        \n",
    "    def forward(self, x):\n",
    "        \n",
    "        u = self.model(torch.cos(x @ self.W + self.b) * torch.sqrt( torch.tensor([2 / self.out_features])))\n",
    "        return u\n",
    "    \n",
    "    \n",
    "class PINN_PDE(nn.Module):\n",
    "    \"\"\"\n",
    "    PINN model\n",
    "    \"\"\"\n",
    "    def __init__(self, d):\n",
    "        super(PINN_PDE, self).__init__()\n",
    "        self.model = nn.Sequential(\n",
    "        nn.Linear(d,64),\n",
    "        nn.Tanh(),\n",
    "        nn.Linear(64,64),\n",
    "        nn.Tanh(),\n",
    "        nn.Linear(64,1))\n",
    "        \n",
    "    def forward(self,x):\n",
    "        u = self.model(x)\n",
    "        return u\n",
    "    \n",
    "def loss_fn(model, x_in, x_bd, RHS, g):\n",
    "    \"\"\"\n",
    "    Compute the loss\n",
    "    \"\"\"\n",
    "    \n",
    "    # interior:\n",
    "    u = model(x_in)\n",
    "\n",
    "    u_x = torch.autograd.grad(u, x_in, grad_outputs=torch.ones_like(u), create_graph=True)[0]\n",
    "    u_xx = torch.autograd.grad(u_x, x_in, grad_outputs=torch.ones_like(u_x), create_graph=True)[0]\n",
    "        \n",
    "    f = RHS(x_in)\n",
    "    f = f.reshape(u.shape)\n",
    "    \n",
    "    residual = (1-2*u) * torch.sum(u_x ** 2, dim=1) + (u-u**2)*torch.sum(u_xx, dim=1) - f\n",
    "    \n",
    "    # boundary\n",
    "    u_bd = model(x_bd)\n",
    "    residual_bd = model(x_bd) - g(x_bd).reshape(u_bd.shape)\n",
    "\n",
    "    return torch.mean(residual**2) + torch.Tensor([1e6]) * torch.mean(residual_bd**2)\n",
    "\n",
    "def train(model, optimizer, x_in, x_bd, RHS, g, epochs=1000):\n",
    "    \n",
    "    losses = []\n",
    "    for epoch in range(epochs):\n",
    "        \n",
    "        optimizer.zero_grad()\n",
    "        loss = loss_fn(model, x_in, x_bd, RHS, g)\n",
    "        loss.backward(retain_graph=True)\n",
    "        optimizer.step()\n",
    "        losses.append(loss.item())\n",
    "        if epoch % 1000 == 0:\n",
    "            print(f\"Epoch {epoch}, Loss: {loss.item()}\")\n",
    "    return losses"
   ]
  },
  {
   "cell_type": "markdown",
   "metadata": {},
   "source": [
    "## d=8"
   ]
  },
  {
   "cell_type": "code",
   "execution_count": 4,
   "metadata": {},
   "outputs": [],
   "source": [
    "# generate training samples\n",
    "N_pts = 30\n",
    "d = 8\n",
    "x_int_train, x_bd_train = sample_points(N_pts,d)\n",
    "\n",
    "# generate test samples\n",
    "N_test = 100\n",
    "x_test_int, x_test_bd = sample_points(N_test, d)\n",
    "u_test_int = u_true(x_test_int).detach().numpy()\n",
    "u_test_bd = u_true(x_test_bd).detach().numpy()"
   ]
  },
  {
   "cell_type": "code",
   "execution_count": 5,
   "metadata": {},
   "outputs": [
    {
     "name": "stdout",
     "output_type": "stream",
     "text": [
      "Epoch 0, Loss: 2345805.1651214994\n",
      "Epoch 1000, Loss: 2206.953944139111\n",
      "Computational time of RF is 40.85\n",
      "Test error of RF is 2.14e-01\n"
     ]
    }
   ],
   "source": [
    "##################### RF\n",
    "# initialize model and optimizer\n",
    "N = 100\n",
    "model_RF = RF_PDE(d, N, sigma = 0.1)\n",
    "optimizer = optim.Adam(model_RF.parameters(), lr=1e-2, weight_decay=0.000001)\n",
    "\n",
    "# Train RF model\n",
    "start = time.time()\n",
    "losses = train(model_RF, optimizer, x_int_train, x_bd_train, f, g, epochs=1500)\n",
    "end = time.time()\n",
    "print(f'Computational time of RF is {end-start:.2f}')\n",
    "\n",
    "# compute predictions and test errors\n",
    "RF_pred_int = model_RF(x_test_int).detach().numpy()\n",
    "RF_pred_bd = model_RF(x_test_bd).detach().numpy()\n",
    "\n",
    "err_RF_int = np.sum( (u_test_int.reshape(RF_pred_int.shape) - RF_pred_int ) ** 2 )\n",
    "err_RF_bd = np.sum( (u_test_bd.reshape(RF_pred_bd.shape) - RF_pred_bd) ** 2 )\n",
    "err_RF = (err_RF_int + err_RF_bd) / (np.size(RF_pred_int) + np.size(RF_pred_bd) )\n",
    "print(f'Test error of RF is {err_RF:.2e}')"
   ]
  },
  {
   "cell_type": "code",
   "execution_count": 6,
   "metadata": {},
   "outputs": [
    {
     "name": "stdout",
     "output_type": "stream",
     "text": [
      "Epoch 0, Loss: 2548137.639138973\n",
      "Epoch 1000, Loss: 38.58320394592804\n",
      "Computational time of RF is 38.45\n",
      "Test error of RF is 3.62e-02\n"
     ]
    }
   ],
   "source": [
    "##################### RF\n",
    "# initialize model and optimizer\n",
    "N = 100\n",
    "model_RF = RF_PDE(d, N, sigma = 1)\n",
    "optimizer = optim.Adam(model_RF.parameters(), lr=1e-2, weight_decay=0.000001)\n",
    "\n",
    "# Train RF model\n",
    "start = time.time()\n",
    "losses = train(model_RF, optimizer, x_int_train, x_bd_train, f, g, epochs=1500)\n",
    "end = time.time()\n",
    "print(f'Computational time of RF is {end-start:.2f}')\n",
    "\n",
    "# compute predictions and test errors\n",
    "RF_pred_int = model_RF(x_test_int).detach().numpy()\n",
    "RF_pred_bd = model_RF(x_test_bd).detach().numpy()\n",
    "\n",
    "err_RF_int = np.sum( (u_test_int.reshape(RF_pred_int.shape) - RF_pred_int ) ** 2 )\n",
    "err_RF_bd = np.sum( (u_test_bd.reshape(RF_pred_bd.shape) - RF_pred_bd) ** 2 )\n",
    "err_RF = (err_RF_int + err_RF_bd) / (np.size(RF_pred_int) + np.size(RF_pred_bd) )\n",
    "print(f'Test error of RF is {err_RF:.2e}')"
   ]
  },
  {
   "cell_type": "code",
   "execution_count": 10,
   "metadata": {},
   "outputs": [
    {
     "name": "stdout",
     "output_type": "stream",
     "text": [
      "Epoch 0, Loss: 2092267.2922855306\n",
      "Epoch 1000, Loss: 283.6742809378693\n",
      "Computational time of RF is 40.47\n",
      "Test error of RF is 7.31e-03\n"
     ]
    }
   ],
   "source": [
    "##################### RF\n",
    "# initialize model and optimizer\n",
    "N = 100\n",
    "model_RF = RF_PDE(d, N, sigma = 5)\n",
    "optimizer = optim.Adam(model_RF.parameters(), lr=1e-2, weight_decay=0.000001)\n",
    "\n",
    "# Train RF model\n",
    "start = time.time()\n",
    "losses = train(model_RF, optimizer, x_int_train, x_bd_train, f, g, epochs=1500)\n",
    "end = time.time()\n",
    "print(f'Computational time of RF is {end-start:.2f}')\n",
    "\n",
    "# compute predictions and test errors\n",
    "RF_pred_int = model_RF(x_test_int).detach().numpy()\n",
    "RF_pred_bd = model_RF(x_test_bd).detach().numpy()\n",
    "\n",
    "err_RF_int = np.sum( (u_test_int.reshape(RF_pred_int.shape) - RF_pred_int ) ** 2 )\n",
    "err_RF_bd = np.sum( (u_test_bd.reshape(RF_pred_bd.shape) - RF_pred_bd) ** 2 )\n",
    "err_RF = (err_RF_int + err_RF_bd) / (np.size(RF_pred_int) + np.size(RF_pred_bd) )\n",
    "print(f'Test error of RF is {err_RF:.2e}')"
   ]
  },
  {
   "cell_type": "code",
   "execution_count": 7,
   "metadata": {},
   "outputs": [
    {
     "name": "stdout",
     "output_type": "stream",
     "text": [
      "Epoch 0, Loss: 2362250.5417948063\n",
      "Epoch 1000, Loss: 65.87892424631718\n",
      "Computational time of RF is 38.43\n",
      "Test error of RF is 4.81e-04\n"
     ]
    }
   ],
   "source": [
    "##################### RF\n",
    "# initialize model and optimizer\n",
    "N = 100\n",
    "model_RF = RF_PDE(d, N, sigma = 10)\n",
    "optimizer = optim.Adam(model_RF.parameters(), lr=1e-2, weight_decay=0.000001)\n",
    "\n",
    "# Train RF model\n",
    "start = time.time()\n",
    "losses = train(model_RF, optimizer, x_int_train, x_bd_train, f, g, epochs=1500)\n",
    "end = time.time()\n",
    "print(f'Computational time of RF is {end-start:.2f}')\n",
    "\n",
    "# compute predictions and test errors\n",
    "RF_pred_int = model_RF(x_test_int).detach().numpy()\n",
    "RF_pred_bd = model_RF(x_test_bd).detach().numpy()\n",
    "\n",
    "err_RF_int = np.sum( (u_test_int.reshape(RF_pred_int.shape) - RF_pred_int ) ** 2 )\n",
    "err_RF_bd = np.sum( (u_test_bd.reshape(RF_pred_bd.shape) - RF_pred_bd) ** 2 )\n",
    "err_RF = (err_RF_int + err_RF_bd) / (np.size(RF_pred_int) + np.size(RF_pred_bd) )\n",
    "print(f'Test error of RF is {err_RF:.2e}')"
   ]
  },
  {
   "cell_type": "code",
   "execution_count": 9,
   "metadata": {},
   "outputs": [
    {
     "name": "stdout",
     "output_type": "stream",
     "text": [
      "Epoch 0, Loss: 2250048.0641486864\n",
      "Epoch 1000, Loss: 48.7816773660272\n",
      "Computational time of RF is 35.57\n",
      "Test error of RF is 4.05e-04\n"
     ]
    }
   ],
   "source": [
    "##################### RF\n",
    "# initialize model and optimizer\n",
    "N = 100\n",
    "model_RF = RF_PDE(d, N, sigma = 20)\n",
    "optimizer = optim.Adam(model_RF.parameters(), lr=1e-2, weight_decay=0.000001)\n",
    "\n",
    "# Train RF model\n",
    "start = time.time()\n",
    "losses = train(model_RF, optimizer, x_int_train, x_bd_train, f, g, epochs=1500)\n",
    "end = time.time()\n",
    "print(f'Computational time of RF is {end-start:.2f}')\n",
    "\n",
    "# compute predictions and test errors\n",
    "RF_pred_int = model_RF(x_test_int).detach().numpy()\n",
    "RF_pred_bd = model_RF(x_test_bd).detach().numpy()\n",
    "\n",
    "err_RF_int = np.sum( (u_test_int.reshape(RF_pred_int.shape) - RF_pred_int ) ** 2 )\n",
    "err_RF_bd = np.sum( (u_test_bd.reshape(RF_pred_bd.shape) - RF_pred_bd) ** 2 )\n",
    "err_RF = (err_RF_int + err_RF_bd) / (np.size(RF_pred_int) + np.size(RF_pred_bd) )\n",
    "print(f'Test error of RF is {err_RF:.2e}')"
   ]
  }
 ],
 "metadata": {
  "kernelspec": {
   "display_name": "Python 3",
   "language": "python",
   "name": "python3"
  },
  "language_info": {
   "codemirror_mode": {
    "name": "ipython",
    "version": 3
   },
   "file_extension": ".py",
   "mimetype": "text/x-python",
   "name": "python",
   "nbconvert_exporter": "python",
   "pygments_lexer": "ipython3",
   "version": "3.7.6"
  }
 },
 "nbformat": 4,
 "nbformat_minor": 4
}
