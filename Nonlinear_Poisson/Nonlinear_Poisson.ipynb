{
 "cells": [
  {
   "cell_type": "markdown",
   "metadata": {},
   "source": [
    "# High dimensional nonlinear Poisson\n",
    "\n",
    "We consider the nonlinear Poisson PDE\n",
    "$$ -\\nabla\\cdot (a(u)\\nabla u) = f(x), \\quad x\\in\\Omega$$\n",
    "$$ u(x) = g(x), \\quad x\\in\\partial\\Omega,$$\n",
    "where $a(u)=u^3-u$ and $\\Omega=[-1,1]^d$. The true solution is $u(x)=\\exp(-\\frac{1}{d}\\sum_{i=1}^dx_i)$, and the function $f(x)$ is computed using the true solution $u(x)$."
   ]
  },
  {
   "cell_type": "code",
   "execution_count": 203,
   "metadata": {},
   "outputs": [],
   "source": [
    "import torch\n",
    "import torch.nn as nn\n",
    "import torch.optim as optim\n",
    "\n",
    "import numpy as np\n",
    "import matplotlib.pyplot as plt\n",
    "\n",
    "import time\n",
    "\n",
    "torch.set_default_dtype(torch.float64)"
   ]
  },
  {
   "cell_type": "code",
   "execution_count": 204,
   "metadata": {},
   "outputs": [],
   "source": [
    "def sample_points(N_pts, d):\n",
    "    \"\"\"\n",
    "    Generate training samples.\n",
    "    \"\"\"\n",
    "    # interior points\n",
    "    N_domain_tot = N_pts**2\n",
    "    x_int = 2 * torch.rand(N_domain_tot, d, requires_grad=True) - 1\n",
    "    \n",
    "    # boundary\n",
    "    x_bd = np.random.normal(-1,1,size=(4*N_pts,d))\n",
    "    x_bd_norm = np.linalg.norm(x_bd, axis=1, ord=np.inf) \n",
    "    x_bd = x_bd / x_bd_norm.reshape((4*N_pts,1))\n",
    "    x_bd = torch.from_numpy(x_bd)\n",
    "    \n",
    "    return x_int, x_bd\n",
    "\n",
    "def u_true(x):\n",
    "    \"\"\"\n",
    "    True function.\n",
    "    \"\"\"\n",
    "    d = x.shape[1]\n",
    "    return torch.exp( -x.sum(dim=1) / d )\n",
    "\n",
    "def f(x):\n",
    "    \"\"\"\n",
    "    Right-hand side.\n",
    "    \"\"\"\n",
    "    d = x.shape[1]\n",
    "    \n",
    "    return (-3*u_true(x)**3 + 2*u_true(x)**2) / d\n",
    "\n",
    "def g(x):\n",
    "    \"\"\"\n",
    "    Boundary condition.\n",
    "    \"\"\"\n",
    "    return u_true(x)"
   ]
  },
  {
   "cell_type": "code",
   "execution_count": 3,
   "metadata": {},
   "outputs": [],
   "source": [
    "class RF_PDE(nn.Module):\n",
    "    \"\"\"\n",
    "    Random Feature model.\n",
    "    \"\"\"\n",
    "    def __init__(self, in_features, out_features, sigma=1.0):\n",
    "        super(RF_PDE, self).__init__()\n",
    "        \n",
    "        self.in_features = in_features\n",
    "        self.out_features = out_features\n",
    "        self.sigma = sigma\n",
    "        self.W = nn.Parameter(torch.randn(in_features, out_features) / sigma, requires_grad=False)\n",
    "        self.b = nn.Parameter(torch.rand(out_features) * 2 * torch.pi, requires_grad=False)\n",
    "        \n",
    "        self.model = nn.Sequential(nn.Linear(out_features, 1))\n",
    "\n",
    "        \n",
    "    def forward(self, x):\n",
    "        \n",
    "        u = self.model(torch.cos(x @ self.W + self.b) * torch.sqrt( torch.tensor([2 / self.out_features])))\n",
    "        return u\n",
    "    \n",
    "    \n",
    "class PINN_PDE(nn.Module):\n",
    "    \"\"\"\n",
    "    PINN model\n",
    "    \"\"\"\n",
    "    def __init__(self, d):\n",
    "        super(PINN_PDE, self).__init__()\n",
    "        self.model = nn.Sequential(\n",
    "        nn.Linear(d,64),\n",
    "        nn.Tanh(),\n",
    "        nn.Linear(64,64),\n",
    "        nn.Tanh(),\n",
    "        nn.Linear(64,1))\n",
    "        \n",
    "    def forward(self,x):\n",
    "        u = self.model(x)\n",
    "        return u\n",
    "    \n",
    "def loss_fn(model, x_in, x_bd, RHS, g):\n",
    "    \"\"\"\n",
    "    Compute the loss\n",
    "    \"\"\"\n",
    "    \n",
    "    # interior:\n",
    "    u = model(x_in)\n",
    "\n",
    "    u_x = torch.autograd.grad(u, x_in, grad_outputs=torch.ones_like(u), create_graph=True)[0]\n",
    "    u_xx = torch.autograd.grad(u_x, x_in, grad_outputs=torch.ones_like(u_x), create_graph=True)[0]\n",
    "        \n",
    "    f = RHS(x_in)\n",
    "    f = f.reshape(u.shape)\n",
    "    \n",
    "    residual = (1-2*u) * torch.sum(u_x ** 2, dim=1) + (u-u**2)*torch.sum(u_xx, dim=1) - f\n",
    "    \n",
    "    # boundary\n",
    "    u_bd = model(x_bd)\n",
    "    residual_bd = model(x_bd) - g(x_bd).reshape(u_bd.shape)\n",
    "\n",
    "    return torch.mean(residual**2) + torch.Tensor([1e6]) * torch.mean(residual_bd**2)\n",
    "\n",
    "def train(model, optimizer, x_in, x_bd, RHS, g, epochs=1000):\n",
    "    \n",
    "    losses = []\n",
    "    for epoch in range(epochs):\n",
    "        \n",
    "        optimizer.zero_grad()\n",
    "        loss = loss_fn(model, x_in, x_bd, RHS, g)\n",
    "        loss.backward(retain_graph=True)\n",
    "        optimizer.step()\n",
    "        losses.append(loss.item())\n",
    "        if epoch % 1000 == 0:\n",
    "            print(f\"Epoch {epoch}, Loss: {loss.item()}\")\n",
    "    return losses"
   ]
  },
  {
   "cell_type": "code",
   "execution_count": 4,
   "metadata": {},
   "outputs": [],
   "source": [
    "class ELM_PDE(nn.Module):\n",
    "    \"\"\"\n",
    "    Extreme Learning Machine.\n",
    "    \"\"\"\n",
    "    \n",
    "    def __init__(self, in_features, out_features, R):\n",
    "        super(ELM_PDE, self).__init__()\n",
    "        \n",
    "        self.in_features = in_features\n",
    "        self.out_features = out_features\n",
    "        self.R = R\n",
    "        self.W = nn.Parameter(torch.rand(in_features, out_features) * 2 * R - R , requires_grad=False)\n",
    "        \n",
    "        self.model = nn.Sequential(nn.Linear(out_features, 1))\n",
    "    \n",
    "    def forward(self,x):\n",
    "        \n",
    "        # inputs = torch.cat((x,y), dim=1)\n",
    "        u = self.model(torch.tanh(x @ self.W))\n",
    "        return u"
   ]
  },
  {
   "cell_type": "markdown",
   "metadata": {},
   "source": [
    "# Test with several dimensions\n",
    "\n",
    "## d=2"
   ]
  },
  {
   "cell_type": "code",
   "execution_count": 5,
   "metadata": {},
   "outputs": [
    {
     "name": "stdout",
     "output_type": "stream",
     "text": [
      "Epoch 0, Loss: 3856598.5708879107\n",
      "Computational time is 41.70\n"
     ]
    }
   ],
   "source": [
    "# generate training samples\n",
    "N_pts = 30\n",
    "d = 2\n",
    "x_int_train, x_bd_train = sample_points(N_pts,d)\n",
    "\n",
    "# generate test samples\n",
    "N_test = 500\n",
    "x_test_int, x_test_bd = sample_points(N_test, d)\n",
    "u_test_int = u_true(x_test_int).detach().numpy()\n",
    "u_test_bd = u_true(x_test_bd).detach().numpy()\n",
    "\n",
    "# initialize model and optimizer\n",
    "N = 500\n",
    "model_RF = RF_PDE(d, N, sigma = 1)\n",
    "optimizer = optim.Adam(model_RF.parameters(), lr=1e-2, weight_decay=0.000001)\n",
    "\n",
    "# Train the model\n",
    "start = time.time()\n",
    "losses = train(model_RF, optimizer, x_int_train, x_bd_train, f, g, epochs=1000)\n",
    "end = time.time()\n",
    "print(f'Computational time is {end-start:.2f}')"
   ]
  },
  {
   "cell_type": "code",
   "execution_count": 6,
   "metadata": {},
   "outputs": [
    {
     "name": "stdout",
     "output_type": "stream",
     "text": [
      "Test error of RF is 8.13e-03\n"
     ]
    }
   ],
   "source": [
    "# compute predictions and test errors\n",
    "RF_pred_int = model_RF(x_test_int).detach().numpy()\n",
    "RF_pred_bd = model_RF(x_test_bd).detach().numpy()\n",
    "\n",
    "err_int = np.sum( (u_test_int.reshape(RF_pred_int.shape) - RF_pred_int ) ** 2 )\n",
    "err_bd = np.sum( (u_test_bd.reshape(RF_pred_bd.shape) - RF_pred_bd) ** 2 )\n",
    "err_RF = (err_int + err_bd) / (np.size(RF_pred_int) + np.size(RF_pred_bd) )\n",
    "print(f'Test error of RF is {err_RF:.2e}')"
   ]
  },
  {
   "cell_type": "code",
   "execution_count": 7,
   "metadata": {},
   "outputs": [
    {
     "data": {
      "image/png": "[encoded data removed]",
      "text/plain": [
       "<Figure size 1296x360 with 6 Axes>"
      ]
     },
     "metadata": {
      "needs_background": "light"
     },
     "output_type": "display_data"
    }
   ],
   "source": [
    "## visualization\n",
    "num_pts = 100\n",
    "xx= np.linspace(-1, 1, num_pts)\n",
    "yy = np.linspace(-1, 1, num_pts)\n",
    "XX, YY = np.meshgrid(xx, yy)\n",
    "\n",
    "XX_test, YY_test = XX.reshape(num_pts**2,1), YY.reshape(num_pts**2,1)\n",
    "XX_test, YY_test = torch.from_numpy(XX_test), torch.from_numpy(YY_test)\n",
    "\n",
    "XX, YY = torch.from_numpy(XX), torch.from_numpy(YY)\n",
    "\n",
    "X_test = torch.concat( (XX_test,YY_test), dim=1)\n",
    "\n",
    "u_truth = u_true(X_test)\n",
    "\n",
    "# plot the true solution\n",
    "fig = plt.figure(figsize=(18,5))\n",
    "ax = fig.add_subplot(132, projection='3d')\n",
    "u_truth_surf=ax.plot_surface(XX, YY, u_truth.reshape(num_pts,num_pts), cmap='Spectral')\n",
    "plt.xlabel(r'$x_1$', size=15) \n",
    "plt.ylabel(r'$x_2$',size=15) \n",
    "plt.title('True solution', size=15)\n",
    "cbar = fig.colorbar(u_truth_surf, shrink= 0.5, aspect = 5)\n",
    "cbar.ax.tick_params(labelsize=20)\n",
    "\n",
    "# plot the test solution\n",
    "u_test = model_RF(X_test)\n",
    "u_test = u_test.detach().numpy()\n",
    "u_test = u_test.reshape(num_pts,num_pts)\n",
    "ax = fig.add_subplot(131, projection='3d')\n",
    "u_test_surf=ax.plot_surface(XX, YY, u_test, cmap='Spectral')\n",
    "plt.xlabel(r'$x_1$', size=15) \n",
    "plt.ylabel(r'$x_2$',size=15) \n",
    "plt.title('Predicted solution',size=15)\n",
    "cbar = fig.colorbar(u_test_surf, shrink= 0.5, aspect = 5)\n",
    "cbar.ax.tick_params(labelsize=20)\n",
    "\n",
    "# plot error\n",
    "ax = fig.add_subplot(133)\n",
    "u_contourf=ax.contourf(XX, YY, abs(u_truth.reshape(num_pts,num_pts)-u_test), 50, cmap='Spectral')\n",
    "plt.xlabel(r'$x_1$', size=15) \n",
    "plt.ylabel(r'$x_2$',size=15)  \n",
    "plt.title('Contourf of errors', size=20)\n",
    "cbar = fig.colorbar(u_contourf, shrink= 0.5, aspect = 5, ticks=[0.04,0.09])\n",
    "cbar.formatter.set_powerlimits((0, 0))\n",
    "cbar.ax.tick_params(labelsize=20)\n",
    "plt.savefig('Poisson.pdf', bbox_inches = 'tight')"
   ]
  },
  {
   "cell_type": "code",
   "execution_count": 8,
   "metadata": {},
   "outputs": [
    {
     "name": "stdout",
     "output_type": "stream",
     "text": [
      "Epoch 0, Loss: 2899109.0791356326\n",
      "Epoch 1000, Loss: 19.556350890015263\n",
      "Computational time is 54.19\n",
      "Test error of PINN is 4.22e-03\n"
     ]
    }
   ],
   "source": [
    "# initialize model and optimizer\n",
    "model = PINN_PDE(d)\n",
    "optimizer = optim.Adam(model.parameters(), lr=1e-2)\n",
    "# Train the model\n",
    "start = time.time()\n",
    "losses = train(model, optimizer, x_int_train, x_bd_train, f, g, epochs=2000)\n",
    "end = time.time()\n",
    "print(f'Computational time is {end-start:.2f}')\n",
    "\n",
    "# compute test error \n",
    "PINN_pred_int = model(x_test_int).detach().numpy()\n",
    "PINN_pred_bd = model(x_test_bd).detach().numpy()\n",
    "\n",
    "# \n",
    "err_PINN_int = np.sum( (u_test_int.reshape(PINN_pred_int.shape) - PINN_pred_int ) ** 2 )\n",
    "err_PINN_bd = np.sum( (u_test_bd.reshape(PINN_pred_bd.shape) - PINN_pred_bd) ** 2 )\n",
    "err_PINN = (err_PINN_int + err_PINN_bd) / (np.size(PINN_pred_int) + np.size(PINN_pred_bd) )\n",
    "print(f'Test error of PINN is {err_PINN:.2e}')"
   ]
  },
  {
   "cell_type": "code",
   "execution_count": 9,
   "metadata": {},
   "outputs": [
    {
     "name": "stdout",
     "output_type": "stream",
     "text": [
      "Epoch 0, Loss: 3661539.14024885\n",
      "Computational time is 30.46 seconds\n",
      "Test error of ELM is 2.37e-02\n"
     ]
    }
   ],
   "source": [
    "################### ELM\n",
    "# initialize ELM model and optimizer\n",
    "model_ELM = ELM_PDE(d, N, R = 0.05)\n",
    "optimizer = optim.Adam(model_ELM.parameters(), lr=1e-2)\n",
    "\n",
    "\n",
    "# Train the model\n",
    "start = time.time()\n",
    "losses = train(model_ELM, optimizer, x_int_train, x_bd_train, f, g, epochs=1000)\n",
    "end = time.time()\n",
    "print(f'Computational time is {end-start:.2f} seconds')\n",
    "\n",
    "\n",
    "# compute test error \n",
    "ELM_pred_int = model_ELM(x_test_int).detach().numpy()\n",
    "ELM_pred_bd = model_ELM(x_test_bd).detach().numpy()\n",
    "\n",
    "# \n",
    "err_ELM_int = np.sum( (u_test_int.reshape(ELM_pred_int.shape) - ELM_pred_int ) ** 2 )\n",
    "err_ELM_bd = np.sum( (u_test_bd.reshape(ELM_pred_bd.shape) - ELM_pred_bd) ** 2 )\n",
    "err_ELM = (err_ELM_int + err_ELM_bd) / (np.size(ELM_pred_int) + np.size(ELM_pred_bd) )\n",
    "print(f'Test error of ELM is {err_ELM:.2e}')"
   ]
  },
  {
   "cell_type": "markdown",
   "metadata": {},
   "source": [
    "## d=4"
   ]
  },
  {
   "cell_type": "code",
   "execution_count": 10,
   "metadata": {},
   "outputs": [
    {
     "name": "stdout",
     "output_type": "stream",
     "text": [
      "Epoch 0, Loss: 2923078.579439061\n",
      "Computational time of RF is 35.66\n",
      "Test error of RF is 2.34e-02\n"
     ]
    }
   ],
   "source": [
    "################ d=4\n",
    "# generate training samples\n",
    "N_pts = 30\n",
    "d = 4\n",
    "x_int_train, x_bd_train = sample_points(N_pts,d)\n",
    "\n",
    "# generate test samples\n",
    "N_test = 50\n",
    "x_test_int, x_test_bd = sample_points(N_test, d)\n",
    "u_test_int = u_true(x_test_int).detach().numpy()\n",
    "u_test_bd = u_true(x_test_bd).detach().numpy()\n",
    "\n",
    "##################### RF\n",
    "# initialize model and optimizer\n",
    "N = 500\n",
    "model_RF = RF_PDE(d, N, sigma = 3)\n",
    "optimizer = optim.Adam(model_RF.parameters(), lr=1e-2, weight_decay=0.000001)\n",
    "\n",
    "# Train RF model\n",
    "start = time.time()\n",
    "losses = train(model_RF, optimizer, x_int_train, x_bd_train, f, g, epochs=1000)\n",
    "end = time.time()\n",
    "print(f'Computational time of RF is {end-start:.2f}')\n",
    "\n",
    "# compute predictions and test errors\n",
    "RF_pred_int = model_RF(x_test_int).detach().numpy()\n",
    "RF_pred_bd = model_RF(x_test_bd).detach().numpy()\n",
    "\n",
    "err_RF_int = np.sum( (u_test_int.reshape(RF_pred_int.shape) - RF_pred_int ) ** 2 )\n",
    "err_RF_bd = np.sum( (u_test_bd.reshape(RF_pred_bd.shape) - RF_pred_bd) ** 2 )\n",
    "err_RF = (err_RF_int + err_RF_bd) / (np.size(RF_pred_int) + np.size(RF_pred_bd) )\n",
    "print(f'Test error of RF is {err_RF:.2e}')"
   ]
  },
  {
   "cell_type": "code",
   "execution_count": 11,
   "metadata": {},
   "outputs": [
    {
     "name": "stdout",
     "output_type": "stream",
     "text": [
      "Epoch 0, Loss: 2848958.9745286186\n",
      "Epoch 1000, Loss: 13.627134441882623\n",
      "Computational time is 48.66\n",
      "Test error of PINN is 5.12e-03\n"
     ]
    }
   ],
   "source": [
    "# initialize model and optimizer\n",
    "model_PINN = PINN_PDE(d)\n",
    "optimizer = optim.Adam(model_PINN.parameters(), lr=1e-2)\n",
    "# Train the model\n",
    "start = time.time()\n",
    "losses = train(model_PINN, optimizer, x_int_train, x_bd_train, f, g, epochs=2000)\n",
    "end = time.time()\n",
    "print(f'Computational time is {end-start:.2f}')\n",
    "\n",
    "# compute test error \n",
    "PINN_pred_int = model_PINN(x_test_int).detach().numpy()\n",
    "PINN_pred_bd = model_PINN(x_test_bd).detach().numpy()\n",
    "\n",
    "# \n",
    "err_PINN_int = np.sum( (u_test_int.reshape(PINN_pred_int.shape) - PINN_pred_int ) ** 2 )\n",
    "err_PINN_bd = np.sum( (u_test_bd.reshape(PINN_pred_bd.shape) - PINN_pred_bd) ** 2 )\n",
    "err_PINN = (err_PINN_int + err_PINN_bd) / (np.size(PINN_pred_int) + np.size(PINN_pred_bd) )\n",
    "print(f'Test error of PINN is {err_PINN:.2e}')"
   ]
  },
  {
   "cell_type": "code",
   "execution_count": 12,
   "metadata": {},
   "outputs": [
    {
     "name": "stdout",
     "output_type": "stream",
     "text": [
      "Epoch 0, Loss: 2699542.468807038\n",
      "Computational time is 32.17 seconds\n",
      "Test error of ELM is 5.62e-02\n"
     ]
    }
   ],
   "source": [
    "################### ELM\n",
    "# initialize ELM model and optimizer\n",
    "model_ELM = ELM_PDE(d, N, R = 0.05)\n",
    "optimizer = optim.Adam(model_ELM.parameters(), lr=1e-2)\n",
    "\n",
    "\n",
    "# Train the model\n",
    "start = time.time()\n",
    "losses = train(model_ELM, optimizer, x_int_train, x_bd_train, f, g, epochs=1000)\n",
    "end = time.time()\n",
    "print(f'Computational time is {end-start:.2f} seconds')\n",
    "\n",
    "\n",
    "# compute test error \n",
    "ELM_pred_int = model_ELM(x_test_int).detach().numpy()\n",
    "ELM_pred_bd = model_ELM(x_test_bd).detach().numpy()\n",
    "\n",
    "# \n",
    "err_ELM_int = np.sum( (u_test_int.reshape(ELM_pred_int.shape) - ELM_pred_int ) ** 2 )\n",
    "err_ELM_bd = np.sum( (u_test_bd.reshape(ELM_pred_bd.shape) - ELM_pred_bd) ** 2 )\n",
    "err_ELM = (err_ELM_int + err_ELM_bd) / (np.size(ELM_pred_int) + np.size(ELM_pred_bd) )\n",
    "print(f'Test error of ELM is {err_ELM:.2e}')"
   ]
  },
  {
   "cell_type": "markdown",
   "metadata": {},
   "source": [
    "## d=8"
   ]
  },
  {
   "cell_type": "code",
   "execution_count": 45,
   "metadata": {},
   "outputs": [
    {
     "name": "stdout",
     "output_type": "stream",
     "text": [
      "Epoch 0, Loss: 2546075.725902421\n",
      "Epoch 1000, Loss: 1822.589134728664\n",
      "Computational time of RF is 37.25\n",
      "Test error of RF is 2.35e-02\n"
     ]
    }
   ],
   "source": [
    "# generate training samples\n",
    "N_pts = 30\n",
    "d = 8\n",
    "x_int_train, x_bd_train = sample_points(N_pts,d)\n",
    "\n",
    "# generate test samples\n",
    "N_test = 50\n",
    "x_test_int, x_test_bd = sample_points(N_test, d)\n",
    "u_test_int = u_true(x_test_int).detach().numpy()\n",
    "u_test_bd = u_true(x_test_bd).detach().numpy()\n",
    "\n",
    "##################### RF\n",
    "# initialize model and optimizer\n",
    "N = 100\n",
    "model_RF = RF_PDE(d, N, sigma = 3)\n",
    "optimizer = optim.Adam(model_RF.parameters(), lr=1e-2, weight_decay=0.000001)\n",
    "\n",
    "# Train RF model\n",
    "start = time.time()\n",
    "losses = train(model_RF, optimizer, x_int_train, x_bd_train, f, g, epochs=1500)\n",
    "end = time.time()\n",
    "print(f'Computational time of RF is {end-start:.2f}')\n",
    "\n",
    "# compute predictions and test errors\n",
    "RF_pred_int = model_RF(x_test_int).detach().numpy()\n",
    "RF_pred_bd = model_RF(x_test_bd).detach().numpy()\n",
    "\n",
    "err_RF_int = np.sum( (u_test_int.reshape(RF_pred_int.shape) - RF_pred_int ) ** 2 )\n",
    "err_RF_bd = np.sum( (u_test_bd.reshape(RF_pred_bd.shape) - RF_pred_bd) ** 2 )\n",
    "err_RF = (err_RF_int + err_RF_bd) / (np.size(RF_pred_int) + np.size(RF_pred_bd) )\n",
    "print(f'Test error of RF is {err_RF:.2e}')\n"
   ]
  },
  {
   "cell_type": "code",
   "execution_count": 14,
   "metadata": {},
   "outputs": [
    {
     "name": "stdout",
     "output_type": "stream",
     "text": [
      "Epoch 0, Loss: 2041616.1780238058\n",
      "Epoch 1000, Loss: 57.37310813824446\n",
      "Computational time of PINN is 57.87\n",
      "Test error of PINN is 4.32e-03\n"
     ]
    }
   ],
   "source": [
    "##################### PINN\n",
    "# initialize model and optimizer\n",
    "model_PINN = PINN_PDE(d)\n",
    "optimizer = optim.Adam(model_PINN.parameters(), lr=1e-2)\n",
    "# Train the model\n",
    "start = time.time()\n",
    "losses = train(model_PINN, optimizer, x_int_train, x_bd_train, f, g, epochs=2000)\n",
    "end = time.time()\n",
    "print(f'Computational time of PINN is {end-start:.2f}')\n",
    "\n",
    "# compute test error \n",
    "PINN_pred_int = model_PINN(x_test_int).detach().numpy()\n",
    "PINN_pred_bd = model_PINN(x_test_bd).detach().numpy()\n",
    "\n",
    "# \n",
    "err_PINN_int = np.sum( (u_test_int.reshape(PINN_pred_int.shape) - PINN_pred_int ) ** 2 )\n",
    "err_PINN_bd = np.sum( (u_test_bd.reshape(PINN_pred_bd.shape) - PINN_pred_bd) ** 2 )\n",
    "err_PINN = (err_PINN_int + err_PINN_bd) / (np.size(PINN_pred_int) + np.size(PINN_pred_bd) )\n",
    "print(f'Test error of PINN is {err_PINN:.2e}')"
   ]
  },
  {
   "cell_type": "code",
   "execution_count": 15,
   "metadata": {},
   "outputs": [
    {
     "name": "stdout",
     "output_type": "stream",
     "text": [
      "Epoch 0, Loss: 2563969.706005053\n",
      "Computational time is 31.01 seconds\n",
      "Test error of ELM is 3.86e-02\n"
     ]
    }
   ],
   "source": [
    "################### ELM\n",
    "# initialize ELM model and optimizer\n",
    "model_ELM = ELM_PDE(d, N, R = 0.05)\n",
    "optimizer = optim.Adam(model_ELM.parameters(), lr=1e-2)\n",
    "\n",
    "\n",
    "# Train the model\n",
    "start = time.time()\n",
    "losses = train(model_ELM, optimizer, x_int_train, x_bd_train, f, g, epochs=1000)\n",
    "end = time.time()\n",
    "print(f'Computational time is {end-start:.2f} seconds')\n",
    "\n",
    "\n",
    "# compute test error \n",
    "ELM_pred_int = model_ELM(x_test_int).detach().numpy()\n",
    "ELM_pred_bd = model_ELM(x_test_bd).detach().numpy()\n",
    "\n",
    "# \n",
    "err_ELM_int = np.sum( (u_test_int.reshape(ELM_pred_int.shape) - ELM_pred_int ) ** 2 )\n",
    "err_ELM_bd = np.sum( (u_test_bd.reshape(ELM_pred_bd.shape) - ELM_pred_bd) ** 2 )\n",
    "err_ELM = (err_ELM_int + err_ELM_bd) / (np.size(ELM_pred_int) + np.size(ELM_pred_bd) )\n",
    "print(f'Test error of ELM is {err_ELM:.2e}')"
   ]
  },
  {
   "cell_type": "code",
   "execution_count": null,
   "metadata": {},
   "outputs": [],
   "source": []
  },
  {
   "cell_type": "markdown",
   "metadata": {},
   "source": [
    "## NLS"
   ]
  },
  {
   "cell_type": "code",
   "execution_count": 237,
   "metadata": {},
   "outputs": [],
   "source": [
    "def Jacobian(c):\n",
    "    \n",
    "    u = A_int@c\n",
    "    \n",
    "    m = A_int.shape[0]\n",
    "    A1 = np.zeros(m)\n",
    "    for i in range(m):\n",
    "        A1[i] = np.sum( (( (1 - A_int[i]**2) * W) @ c) ** 2 )\n",
    "    \n",
    "    ################ G(c)\n",
    "    value1 = (1-2*u) * A1 + (u-u**2) * (delta_u @ c) - rhs_pde.detach().numpy().reshape(-1)\n",
    "    value2 = A_bd @ c - rhs_bd.detach().numpy().reshape(-1)\n",
    "    # concatenate\n",
    "    rhs = np.concatenate((value1, value2))\n",
    "    \n",
    "    ################ Compute Jacobian\n",
    "    u = u.reshape((u.shape[0],1))\n",
    "    B = np.zeros(A_int.shape)\n",
    "    for i in range(m):\n",
    "        u_x = ( (1 - A_int[i]**2) * W) @ c\n",
    "        u_x = u_x.reshape((u_x.shape[0],1))\n",
    "        B[i] = np.sum(u_x * W, axis=0)\n",
    "        \n",
    "    A2 = (delta_u @ c)\n",
    "    A2 = A2.reshape((A2.shape[0],1))\n",
    "    # Jacobian 1\n",
    "    J1 = -2 * A_int * A1.reshape((m,1)) + (1-2*u) * 2 * (1 - A_int**2) * B + (A_int - 2 * u * A_int) * A2 + (u - u**2) * delta_u \n",
    "    J = np.row_stack((J1,A_bd))\n",
    "    \n",
    "    return J, rhs    "
   ]
  },
  {
   "cell_type": "code",
   "execution_count": 238,
   "metadata": {},
   "outputs": [
    {
     "name": "stdout",
     "output_type": "stream",
     "text": [
      "Test error of RF model is 1.12e+00\n",
      "Training time is 5.88 seconds\n"
     ]
    }
   ],
   "source": [
    "# generate training samples\n",
    "N_pts = 30\n",
    "d = 4\n",
    "x_int_train, x_bd_train = sample_points(N_pts,d)\n",
    "\n",
    "# generate test samples\n",
    "N_test = 50\n",
    "x_test_int, x_test_bd = sample_points(N_test, d)\n",
    "u_test_int = u_true(x_test_int).detach().numpy()\n",
    "u_test_bd = u_true(x_test_bd).detach().numpy()\n",
    "\n",
    "\n",
    "\n",
    "# compute rhs\n",
    "rhs_pde = f(x_int_train)\n",
    "rhs_bd = g(x_bd_train)\n",
    "\n",
    "\n",
    "# generate weights\n",
    "N = 500                               # number of random features\n",
    "R = 2\n",
    "W = np.random.uniform(-R,R, size=(d,N))\n",
    "W_sum = np.sum(W,axis=0)\n",
    "W_norm = np.linalg.norm(W,axis=0) ** 2\n",
    "\n",
    "x_train = x_int_train.detach().numpy()\n",
    "A_int = np.tanh(x_train @ W)\n",
    "\n",
    "x_bd = x_bd_train.detach().numpy()\n",
    "A_bd = np.tanh(x_bd @ W)\n",
    "\n",
    "# test points\n",
    "x_test_int = x_test_int.detach().numpy()\n",
    "A_test_int = np.tanh(x_test_int @ W)\n",
    "\n",
    "x_test_bd = x_test_bd.detach().numpy()\n",
    "A_test_bd = np.tanh(x_test_bd @ W)\n",
    "\n",
    "\n",
    "# some matrices\n",
    "delta_u = - 2 * A_int * (1-A_int**2) * W_norm\n",
    "\n",
    "\n",
    "# Initial guess for parameters\n",
    "#c = np.zeros((N,))\n",
    "c = np.random.rand(N)\n",
    "# Iter 100 times\n",
    "Iter = 50\n",
    "# test error\n",
    "test_err = []\n",
    "start = time.time()\n",
    "for i in range(Iter):\n",
    "    \n",
    "    J, rhs = Jacobian(c)\n",
    "    \n",
    "    delta_c = np.linalg.pinv(J) @ (-rhs)\n",
    "    c = c + delta_c\n",
    "    \n",
    "    # compute errors:\n",
    "    pred_int = A_test_int @ c\n",
    "    err_int = np.sum( (u_test_int.reshape(pred_int.shape) - pred_int)**2 )\n",
    "    \n",
    "    pred_bd = A_test_bd @ c\n",
    "    err_bd = np.sum( (u_test_bd.reshape(pred_bd.shape) - pred_bd)**2 )\n",
    "\n",
    "    err_ELM = (err_int + err_bd) / (np.size(pred_int) + np.size(pred_bd))\n",
    "    test_err.append(err_ELM)\n",
    "end = time.time()\n",
    "\n",
    "print(f'Test error of RF model is {min(test_err):.2e}')\n",
    "print(f'Training time is {end-start:.2f} seconds')"
   ]
  },
  {
   "cell_type": "code",
   "execution_count": 239,
   "metadata": {},
   "outputs": [
    {
     "data": {
      "text/plain": [
       "[<matplotlib.lines.Line2D at 0x7fa3c071cc50>]"
      ]
     },
     "execution_count": 239,
     "metadata": {},
     "output_type": "execute_result"
    },
    {
     "data": {
      "image/png": "[encoded data removed]",
      "text/plain": [
       "<Figure size 432x288 with 1 Axes>"
      ]
     },
     "metadata": {
      "needs_background": "light"
     },
     "output_type": "display_data"
    }
   ],
   "source": [
    "plt.plot(test_err)"
   ]
  },
  {
   "cell_type": "code",
   "execution_count": 240,
   "metadata": {},
   "outputs": [],
   "source": [
    "# def Jacobian\n",
    "\n",
    "def Jacobian(c):\n",
    "    \n",
    "    u = A_int@c\n",
    "    \n",
    "    m = A_int.shape[0]\n",
    "    A1 = np.zeros(m)\n",
    "    for i in range(m):\n",
    "        A1[i] = - np.sum(  ( (A_sin[i] * W) @ c) ** 2 )\n",
    "    \n",
    "    ################ G(c)\n",
    "    value1 = (1-2*u) * A1 + (u-u**2) * (delta_u @ c) - rhs_pde.detach().numpy().reshape(-1)\n",
    "    value2 = A_bd @ c - rhs_bd.detach().numpy().reshape(-1)\n",
    "    # concatenate\n",
    "    rhs = np.concatenate((value1, value2))\n",
    "    \n",
    "    ################ Compute Jacobian\n",
    "    u = u.reshape((u.shape[0],1))\n",
    "    B = np.zeros(A_int.shape)\n",
    "    for i in range(m):\n",
    "        u_x = ( A_sin[i] * W) @ c\n",
    "        u_x = u_x.reshape((u_x.shape[0],1))\n",
    "        B[i] = np.sum(u_x * W, axis=0)\n",
    "        \n",
    "    A2 = (delta_u @ c)\n",
    "    A2 = A2.reshape((A2.shape[0],1))\n",
    "    # Jacobian 1\n",
    "    J1 = -2 * A_int * A1.reshape((m,1)) - (1-2*u) * 2 * A_sin * B + (A_int - 2 * u * A_int) * A2 + (u - u**2) * delta_u \n",
    "    J = np.row_stack((J1,A_bd))\n",
    "    \n",
    "    return J, rhs    "
   ]
  },
  {
   "cell_type": "code",
   "execution_count": 243,
   "metadata": {},
   "outputs": [
    {
     "name": "stdout",
     "output_type": "stream",
     "text": [
      "Test error of RF model is 1.92e-04\n",
      "Training time is 7.11 seconds\n"
     ]
    }
   ],
   "source": [
    "# RF\n",
    "\n",
    "## RF model trained by non-linear least square\n",
    "N = 1000\n",
    "sigma = 10\n",
    "\n",
    "# random features\n",
    "W = np.random.randn(d,N) / sigma\n",
    "W_sum = np.sum(W,axis=0)\n",
    "W_norm = np.linalg.norm(W,axis=0) ** 2\n",
    "\n",
    "b = np.random.uniform(0, 2*np.pi, N)\n",
    "\n",
    "# matrix A\n",
    "A_int = np.cos(x_train @ W + b)\n",
    "A_sin = np.sin(x_train @ W + b)\n",
    "A_bd = np.cos(x_bd @ W + b)\n",
    "A_test_int = np.cos(x_test_int @ W + b)\n",
    "A_test_bd = np.cos(x_test_bd @ W + b)\n",
    "\n",
    "# some matrices\n",
    "delta_u = - A_int * W_norm\n",
    "\n",
    "# Initial guess for parameters\n",
    "c = np.zeros((N,))\n",
    "#c = np.random.rand(N)\n",
    "# Iter 100 times\n",
    "Iter = 30\n",
    "# test error\n",
    "test_err = []\n",
    "start = time.time()\n",
    "for i in range(Iter):\n",
    "    \n",
    "    J, rhs = Jacobian(c)\n",
    "    \n",
    "    delta_c = np.linalg.pinv(J) @ (-rhs)\n",
    "    c = c + delta_c\n",
    "\n",
    "    # compute errors:\n",
    "    pred_int = A_test_int @ c\n",
    "    err_int = np.sum( (u_test_int.reshape(pred_int.shape) - pred_int)**2 )\n",
    "    \n",
    "    pred_bd = A_test_bd @ c\n",
    "    err_bd = np.sum( (u_test_bd.reshape(pred_bd.shape) - pred_bd)**2 )\n",
    "\n",
    "    err_ELM = (err_int + err_bd) / (np.size(pred_int) + np.size(pred_bd))\n",
    "    test_err.append(err_ELM)\n",
    "end = time.time()\n",
    "print(f'Test error of RF model is {min(test_err):.2e}')\n",
    "print(f'Training time is {end-start:.2f} seconds')"
   ]
  },
  {
   "cell_type": "code",
   "execution_count": null,
   "metadata": {},
   "outputs": [],
   "source": []
  }
 ],
 "metadata": {
  "kernelspec": {
   "display_name": "Python 3",
   "language": "python",
   "name": "python3"
  },
  "language_info": {
   "codemirror_mode": {
    "name": "ipython",
    "version": 3
   },
   "file_extension": ".py",
   "mimetype": "text/x-python",
   "name": "python",
   "nbconvert_exporter": "python",
   "pygments_lexer": "ipython3",
   "version": "3.7.6"
  }
 },
 "nbformat": 4,
 "nbformat_minor": 4
}
