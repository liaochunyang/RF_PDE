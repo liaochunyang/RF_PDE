{
 "cells": [
  {
   "cell_type": "markdown",
   "metadata": {},
   "source": [
    "# High dimensional nonlinear poisson"
   ]
  },
  {
   "cell_type": "code",
   "execution_count": 1,
   "metadata": {},
   "outputs": [],
   "source": [
    "import torch\n",
    "import torch.nn as nn\n",
    "import torch.optim as optim\n",
    "\n",
    "import numpy as np\n",
    "import matplotlib.pyplot as plt\n",
    "\n",
    "import time\n",
    "\n",
    "torch.set_default_dtype(torch.float64)"
   ]
  },
  {
   "cell_type": "code",
   "execution_count": 2,
   "metadata": {},
   "outputs": [],
   "source": [
    "def sample_points(N_pts, d):\n",
    "    \"\"\"\n",
    "    Generate training samples.\n",
    "    \"\"\"\n",
    "    # interior points\n",
    "    N_domain_tot = N_pts**2\n",
    "    x_int = 2 * torch.rand(N_domain_tot, d, requires_grad=True) - 1\n",
    "    \n",
    "    # boundary\n",
    "    x_bd = np.random.normal(-1,1,size=(4*N_pts,d))\n",
    "    x_bd_norm = np.linalg.norm(x_bd, axis=1, ord=np.inf) \n",
    "    x_bd = x_bd / x_bd_norm.reshape((4*N_pts,1))\n",
    "    x_bd = torch.from_numpy(x_bd)\n",
    "    \n",
    "    return x_int, x_bd\n",
    "\n",
    "def u_true(x):\n",
    "    \"\"\"\n",
    "    True function.\n",
    "    \"\"\"\n",
    "    d = x.shape[1]\n",
    "    return torch.exp( -x.sum(dim=1) / d )\n",
    "\n",
    "def f(x):\n",
    "    \"\"\"\n",
    "    Right-hand side.\n",
    "    \"\"\"\n",
    "    d = x.shape[1]\n",
    "    \n",
    "    return (-3*u_true(x)**3 + 2*u_true(x)**2) / d\n",
    "\n",
    "def g(x):\n",
    "    \"\"\"\n",
    "    Boundary condition.\n",
    "    \"\"\"\n",
    "    return u_true(x)"
   ]
  },
  {
   "cell_type": "markdown",
   "metadata": {},
   "source": [
    "## Models"
   ]
  },
  {
   "cell_type": "code",
   "execution_count": 3,
   "metadata": {},
   "outputs": [],
   "source": [
    "class RF_PDE(nn.Module):\n",
    "    \"\"\"\n",
    "    Random Feature model.\n",
    "    \"\"\"\n",
    "    def __init__(self, in_features, out_features, sigma=1.0):\n",
    "        super(RF_PDE, self).__init__()\n",
    "        \n",
    "        self.in_features = in_features\n",
    "        self.out_features = out_features\n",
    "        self.sigma = sigma\n",
    "        self.W = nn.Parameter(torch.randn(in_features, out_features) / sigma)\n",
    "        self.b = nn.Parameter(torch.rand(out_features) * 2 * torch.pi)\n",
    "        \n",
    "        self.model = nn.Sequential(nn.Linear(out_features, 1))\n",
    "\n",
    "        \n",
    "    def forward(self, x):\n",
    "        \n",
    "        u = self.model(torch.cos(x @ self.W + self.b) * torch.sqrt( torch.tensor([2 / self.out_features])))\n",
    "        return u\n",
    "    \n",
    "    \n",
    "class PINN_PDE(nn.Module):\n",
    "    \"\"\"\n",
    "    PINN model\n",
    "    \"\"\"\n",
    "    def __init__(self, d):\n",
    "        super(PINN_PDE, self).__init__()\n",
    "        self.model = nn.Sequential(\n",
    "        nn.Linear(d,64),\n",
    "        nn.Tanh(),\n",
    "        nn.Linear(64,64),\n",
    "        nn.Tanh(),\n",
    "        nn.Linear(64,1))\n",
    "        \n",
    "    def forward(self,x):\n",
    "        u = self.model(x)\n",
    "        return u\n",
    "    \n",
    "def loss_fn(model, x_in, x_bd, RHS, g):\n",
    "    \"\"\"\n",
    "    Compute the loss\n",
    "    \"\"\"\n",
    "    \n",
    "    # interior:\n",
    "    u = model(x_in)\n",
    "\n",
    "    u_x = torch.autograd.grad(u, x_in, grad_outputs=torch.ones_like(u), create_graph=True)[0]\n",
    "    u_xx = torch.autograd.grad(u_x, x_in, grad_outputs=torch.ones_like(u_x), create_graph=True)[0]\n",
    "        \n",
    "    f = RHS(x_in)\n",
    "    f = f.reshape(u.shape)\n",
    "    \n",
    "    residual = (1-2*u) * torch.sum(u_x ** 2, dim=1) + (u-u**2)*torch.sum(u_xx, dim=1) - f\n",
    "    \n",
    "    # boundary\n",
    "    u_bd = model(x_bd)\n",
    "    residual_bd = model(x_bd) - g(x_bd).reshape(u_bd.shape)\n",
    "\n",
    "    return torch.mean(residual**2) + torch.Tensor([1e6]) * torch.mean(residual_bd**2)\n",
    "\n",
    "def train(model, optimizer, x_in, x_bd, RHS, g, epochs=1000):\n",
    "    \n",
    "    losses = []\n",
    "    for epoch in range(epochs):\n",
    "        \n",
    "        optimizer.zero_grad()\n",
    "        loss = loss_fn(model, x_in, x_bd, RHS, g)\n",
    "        loss.backward(retain_graph=True)\n",
    "        optimizer.step()\n",
    "        losses.append(loss.item())\n",
    "        if epoch % 1000 == 0:\n",
    "            print(f\"Epoch {epoch}, Loss: {loss.item()}\")\n",
    "    return losses"
   ]
  },
  {
   "cell_type": "markdown",
   "metadata": {},
   "source": [
    "# Decay rate --  number of collocation points"
   ]
  },
  {
   "cell_type": "code",
   "execution_count": 19,
   "metadata": {},
   "outputs": [],
   "source": [
    "def decay_rate_m(d):\n",
    "    \n",
    "    # number of collocation points\n",
    "    Points = [10,20,30]\n",
    "    \n",
    "    # generate test points\n",
    "    N_test = 100\n",
    "    x_test_int, x_test_bd = sample_points(N_test, d)\n",
    "    u_test_int = u_true(x_test_int).detach().numpy()\n",
    "    u_test_bd = u_true(x_test_bd).detach().numpy()\n",
    "    \n",
    "    # empty spaces for test errors\n",
    "    T = 10\n",
    "    RF_test_errors = np.zeros((len(Points), T)) \n",
    "    \n",
    "    # number of random features \n",
    "    N = 100\n",
    "    \n",
    "    epochs = [1000,1000,1500]\n",
    "    \n",
    "    for i in range(len(Points)):\n",
    "    \n",
    "        # generate training points\n",
    "        N_pts = Points[i]\n",
    "        x_int_train, x_bd_train = sample_points(N_pts,d)\n",
    "    \n",
    "        for j in range(T):\n",
    "        \n",
    "            # generate RF model\n",
    "            model_RF = RF_PDE(d, N, sigma = 1)\n",
    "            optimizer = optim.Adam(model_RF.parameters(), lr=1e-2, weight_decay=0.000001)\n",
    "            # train the model\n",
    "            losses = train(model_RF, optimizer, x_int_train, x_bd_train, f, g, epochs=epochs[i])\n",
    "    \n",
    "            # compute test errors\n",
    "            RF_pred_int = model_RF(x_test_int).detach().numpy()\n",
    "            RF_pred_bd = model_RF(x_test_bd).detach().numpy()\n",
    "        \n",
    "            err_int = np.sum( (u_test_int.reshape(RF_pred_int.shape) - RF_pred_int ) ** 2 )\n",
    "            err_bd = np.sum( (u_test_bd.reshape(RF_pred_bd.shape) - RF_pred_bd) ** 2 )\n",
    "            err_RF = (err_int + err_bd) / (np.size(RF_pred_int) + np.size(RF_pred_bd) )\n",
    "            RF_test_errors[i,j] = err_RF\n",
    "        \n",
    "    return np.mean(RF_test_errors,axis=1)"
   ]
  },
  {
   "cell_type": "code",
   "execution_count": 23,
   "metadata": {},
   "outputs": [
    {
     "name": "stdout",
     "output_type": "stream",
     "text": [
      "Epoch 0, Loss: 2624062.0502031026\n",
      "Epoch 0, Loss: 2694709.5746232094\n",
      "Epoch 0, Loss: 2355132.908604297\n",
      "Epoch 0, Loss: 2829342.2934749844\n",
      "Epoch 0, Loss: 3087281.332176982\n",
      "Epoch 0, Loss: 2952801.769770302\n",
      "Epoch 0, Loss: 3317036.2110379627\n",
      "Epoch 1000, Loss: 129.93590674008982\n",
      "Epoch 0, Loss: 2867209.3437458533\n",
      "Epoch 1000, Loss: 145.92462190054118\n",
      "Epoch 0, Loss: 2677294.8741905685\n",
      "Epoch 1000, Loss: 122.54393923395298\n",
      "Epoch 0, Loss: 2226921.0062234853\n",
      "Epoch 0, Loss: 2407124.1891780784\n",
      "Epoch 0, Loss: 2153098.809950969\n",
      "Epoch 0, Loss: 2909492.203726181\n",
      "Epoch 0, Loss: 2683361.8695324436\n",
      "Epoch 0, Loss: 2560475.937214266\n",
      "Epoch 0, Loss: 2703261.7402215134\n",
      "Epoch 1000, Loss: 106.66266195800891\n",
      "Epoch 0, Loss: 2598931.5240527475\n",
      "Epoch 1000, Loss: 83.28964863945149\n",
      "Epoch 0, Loss: 2495012.375805792\n",
      "Epoch 1000, Loss: 80.97400937652122\n",
      "Epoch 0, Loss: 2284879.0823736284\n",
      "Epoch 0, Loss: 2374441.5570493354\n",
      "Epoch 0, Loss: 2269790.7023711395\n",
      "Epoch 0, Loss: 2021207.1106597667\n",
      "Epoch 0, Loss: 2469076.6831282484\n",
      "Epoch 0, Loss: 2524990.3466671538\n",
      "Epoch 0, Loss: 2109956.6053669006\n",
      "Epoch 1000, Loss: 28.909572570462625\n",
      "Epoch 0, Loss: 2360272.710067483\n",
      "Epoch 1000, Loss: 38.001773461835356\n",
      "Epoch 0, Loss: 2087160.005830524\n",
      "Epoch 1000, Loss: 36.86989549628089\n"
     ]
    }
   ],
   "source": [
    "RF_test_errors_d4 = decay_rate_m(4)\n",
    "RF_test_errors_d6 = decay_rate_m(6)\n",
    "RF_test_errors_d8 = decay_rate_m(8)"
   ]
  },
  {
   "cell_type": "code",
   "execution_count": 25,
   "metadata": {},
   "outputs": [
    {
     "data": {
      "image/png": "[encoded data removed]",
      "text/plain": [
       "<Figure size 432x288 with 1 Axes>"
      ]
     },
     "metadata": {
      "needs_background": "light"
     },
     "output_type": "display_data"
    }
   ],
   "source": [
    "Points = [10,20,30]\n",
    "\n",
    "# compute slopes\n",
    "k4 = np.polyfit(np.log(Points), np.log(RF_test_errors_d4), 1)[0]/2\n",
    "k6 = np.polyfit(np.log(Points), np.log(RF_test_errors_d6), 1)[0]/2\n",
    "k8 = np.polyfit(np.log(Points), np.log(RF_test_errors_d8), 1)[0]/2\n",
    "\n",
    "# visualization\n",
    "#plt.loglog(np.power(Points,2), RF_test_errors_d4, '-o', label=f'd=4, slope = {k4:.2f}')\n",
    "plt.loglog(np.power(Points,2), RF_test_errors_d6, '-o', label=f'd=6, slope = {k6:.2f}')\n",
    "plt.loglog(np.power(Points,2), RF_test_errors_d8, '-o', label=f'd=8, slope = {k8:.2f}')\n",
    "plt.legend(fontsize=15)\n",
    "plt.xlabel('Number of collocation points', size=15)\n",
    "plt.ylabel('Test error', size=15)\n",
    "plt.savefig('Poisson_rate_m.pdf', bbox_inches = 'tight')"
   ]
  },
  {
   "cell_type": "markdown",
   "metadata": {},
   "source": [
    "# Decay rate -- number of random features"
   ]
  },
  {
   "cell_type": "code",
   "execution_count": 10,
   "metadata": {},
   "outputs": [],
   "source": [
    "def decay_rate_N(d, epochs):\n",
    "    \n",
    "    # number of collocation points\n",
    "    N_pts = 20\n",
    "    x_int_train, x_bd_train = sample_points(N_pts,d)\n",
    "    \n",
    "    # generate test points\n",
    "    N_test = 100\n",
    "    x_test_int, x_test_bd = sample_points(N_test, d)\n",
    "    u_test_int = u_true(x_test_int).detach().numpy()\n",
    "    u_test_bd = u_true(x_test_bd).detach().numpy()\n",
    "    \n",
    "    # number of random features\n",
    "    N_range = [100, 400]\n",
    "    \n",
    "    T = 10\n",
    "    RF_test_errors = np.zeros((len(N_range),T))\n",
    "    \n",
    "    for i in range(len(N_range)):\n",
    "        \n",
    "        # number of features\n",
    "        N = N_range[i]\n",
    "        \n",
    "        for j in range(T):\n",
    "            \n",
    "            # generate RF model\n",
    "            model_RF = RF_PDE(d, N, sigma = 3)\n",
    "            optimizer = optim.Adam(model_RF.parameters(), lr=1e-2, weight_decay=0.000001)\n",
    "            # train the model\n",
    "            losses = train(model_RF, optimizer, x_int_train, x_bd_train, f, g, epochs=epochs[i])\n",
    "    \n",
    "            # compute test errors\n",
    "            RF_pred_int = model_RF(x_test_int).detach().numpy()\n",
    "            RF_pred_bd = model_RF(x_test_bd).detach().numpy()\n",
    "\n",
    "            err_int = np.sum( (u_test_int.reshape(RF_pred_int.shape) - RF_pred_int ) ** 2 )\n",
    "            err_bd = np.sum( (u_test_bd.reshape(RF_pred_bd.shape) - RF_pred_bd) ** 2 )\n",
    "            err_RF = (err_int + err_bd) / (np.size(RF_pred_int) + np.size(RF_pred_bd) )\n",
    "            RF_test_errors[i,j] = err_RF\n",
    "            \n",
    "    return np.mean(RF_test_errors, axis=1)   "
   ]
  },
  {
   "cell_type": "code",
   "execution_count": 11,
   "metadata": {},
   "outputs": [
    {
     "name": "stdout",
     "output_type": "stream",
     "text": [
      "Epoch 0, Loss: 2292070.437997964\n",
      "Epoch 0, Loss: 2102802.6529859714\n",
      "Epoch 0, Loss: 2612015.688056337\n",
      "Epoch 0, Loss: 2257092.041879887\n",
      "Epoch 1000, Loss: 173.2743975303811\n",
      "Epoch 0, Loss: 2585464.10656915\n",
      "Epoch 1000, Loss: 164.01962745848812\n",
      "Epoch 0, Loss: 2585300.783387204\n",
      "Epoch 1000, Loss: 191.95256511035478\n",
      "Epoch 0, Loss: 2578075.112193892\n",
      "Epoch 0, Loss: 3216792.4144325373\n",
      "Epoch 0, Loss: 2731535.3612961285\n",
      "Epoch 0, Loss: 2299181.8401947827\n",
      "Epoch 1000, Loss: 95.12311451757157\n",
      "Epoch 0, Loss: 2388827.51135373\n",
      "Epoch 1000, Loss: 99.65076757150374\n",
      "Epoch 0, Loss: 2510948.5638929424\n",
      "Epoch 1000, Loss: 104.81807502903027\n"
     ]
    }
   ],
   "source": [
    "RF_err_N6 = decay_rate_N(6, epochs = [600,1200])\n",
    "RF_err_N8 = decay_rate_N(8, epochs = [800,1500])"
   ]
  },
  {
   "cell_type": "code",
   "execution_count": 13,
   "metadata": {},
   "outputs": [
    {
     "data": {
      "image/png": "[encoded data removed]",
      "text/plain": [
       "<Figure size 432x288 with 1 Axes>"
      ]
     },
     "metadata": {
      "needs_background": "light"
     },
     "output_type": "display_data"
    }
   ],
   "source": [
    "# compute slopes\n",
    "N_range = [100, 400]\n",
    "kN6 = np.polyfit(np.log(N_range), np.log(RF_err_N6), 1)[0]\n",
    "kN8 = np.polyfit(np.log(N_range), np.log(RF_err_N8), 1)[0]\n",
    "\n",
    "# visualization\n",
    "plt.loglog(N_range, RF_err_N6, '-o', label=f'd=6, slope = {kN6:.2f}')\n",
    "plt.loglog(N_range, RF_err_N8, '-o', label=f'd=8, slope = {kN8:.2f}')\n",
    "plt.legend(fontsize=15)\n",
    "plt.xlabel('Number of random features', size=15)\n",
    "plt.ylabel('Test error', size=15)\n",
    "plt.savefig('Poisson_rate_N.pdf', bbox_inches = 'tight')"
   ]
  }
 ],
 "metadata": {
  "kernelspec": {
   "display_name": "Python 3",
   "language": "python",
   "name": "python3"
  },
  "language_info": {
   "codemirror_mode": {
    "name": "ipython",
    "version": 3
   },
   "file_extension": ".py",
   "mimetype": "text/x-python",
   "name": "python",
   "nbconvert_exporter": "python",
   "pygments_lexer": "ipython3",
   "version": "3.7.6"
  }
 },
 "nbformat": 4,
 "nbformat_minor": 4
}
