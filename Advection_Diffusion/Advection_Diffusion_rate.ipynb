{
 "cells": [
  {
   "cell_type": "markdown",
   "metadata": {},
   "source": [
    "# Advection Diffusion Equation: Decay rate"
   ]
  },
  {
   "cell_type": "code",
   "execution_count": 1,
   "metadata": {},
   "outputs": [],
   "source": [
    "import torch\n",
    "import torch.nn as nn\n",
    "import torch.optim as optim\n",
    "\n",
    "import numpy as np\n",
    "import matplotlib.pyplot as plt\n",
    "\n",
    "import time\n",
    "np.random.seed(1)\n",
    "torch.set_default_dtype(torch.float64)"
   ]
  },
  {
   "cell_type": "code",
   "execution_count": 2,
   "metadata": {},
   "outputs": [],
   "source": [
    "def u_true(x,t):\n",
    "    d = x.shape[1]\n",
    "    time = torch.exp(-t/d)\n",
    "    return torch.sin( x.sum(dim=1) / d ) * time.squeeze()\n",
    "\n",
    "def f(x,t):\n",
    "    \n",
    "    d = x.shape[1]\n",
    "    time = torch.exp(-t/d)\n",
    "    return torch.cos( x.sum(dim=1) / d ) * time.squeeze() / d\n",
    "\n",
    "def g(x, t):\n",
    "    return u_true(x, t)\n",
    "\n",
    "def h(x):\n",
    "    return torch.sin( x.sum(dim=1) / d )"
   ]
  },
  {
   "cell_type": "code",
   "execution_count": 3,
   "metadata": {},
   "outputs": [],
   "source": [
    "class ADERF(nn.Module):\n",
    "    \"\"\"\n",
    "    Generate random feature model\n",
    "    \"\"\"\n",
    "    def __init__(self, in_features, out_features, sigma=1.0):\n",
    "        super(ADERF, self).__init__()\n",
    "        \n",
    "        self.in_features = in_features\n",
    "        self.out_features = out_features\n",
    "        self.sigma = sigma\n",
    "        self.W = nn.Parameter(torch.randn(in_features, out_features) / sigma)\n",
    "        self.b = nn.Parameter(torch.rand(out_features) * 2 * torch.pi)\n",
    "        \n",
    "        self.model = nn.Sequential(nn.Linear(out_features, 1))\n",
    "\n",
    "        \n",
    "    def forward(self, x, t):\n",
    "        \n",
    "        inputs = torch.concat((x,t), dim=1)\n",
    "        u = self.model(torch.cos(inputs @ self.W + self.b) * torch.sqrt( torch.tensor([2 / self.out_features])))\n",
    "        return u\n",
    "    \n",
    "class ADE_PINN(nn.Module):\n",
    "    \"\"\"\n",
    "    Generate PINN \n",
    "    \"\"\"\n",
    "    def __init__(self):\n",
    "        super(ADE_PINN, self).__init__()\n",
    "        self.model = nn.Sequential(\n",
    "        nn.Linear(2,64),\n",
    "        nn.Tanh(),\n",
    "        nn.Linear(64,64),\n",
    "        nn.Tanh(),\n",
    "        nn.Linear(64,1))\n",
    "        \n",
    "    def forward(self,x,t):\n",
    "        \n",
    "        inputs = torch.cat((x,t), dim=1)\n",
    "        u = self.model(inputs)\n",
    "        return u\n",
    "    \n",
    "def loss_fn(model, x, t, m_bd, m_int, f, g, h):\n",
    "    \"\"\"\n",
    "    Compute the loss\n",
    "    \"\"\"\n",
    "    \n",
    "    d = x.shape[1]\n",
    "    \n",
    "    # interior:\n",
    "    u = model(x, t)\n",
    "\n",
    "    u_t = torch.autograd.grad(u, t, grad_outputs=torch.ones_like(u), create_graph=True)[0]\n",
    "    u_x = torch.autograd.grad(u, x, grad_outputs=torch.ones_like(u), create_graph=True)[0]\n",
    "    u_xx = torch.autograd.grad(u_x, x, grad_outputs=torch.ones_like(u_x), create_graph=True)[0]\n",
    "    \n",
    "    RHS = f(x, t)\n",
    "    RHS = RHS.reshape(u.shape)\n",
    "    \n",
    "    residual = u_t - torch.sum(u_xx, dim=1) + torch.sum(u_x, dim=1) / d - RHS\n",
    "    \n",
    "    # left boundary\n",
    "    t_bd = torch.rand(m_bd, 1)\n",
    "    x_left = - torch.ones(t_bd.shape)\n",
    "    u_bd_left = model(x_left, t_bd)\n",
    "    g_left = g(x_left,t_bd)\n",
    "    g_left = g_left.reshape(u_bd_left.shape)\n",
    "    res_left = u_bd_left - g_left\n",
    "    \n",
    "    # right boundary\n",
    "    t_bd = torch.rand(m_bd, 1)\n",
    "    x_right = torch.ones(t_bd.shape)\n",
    "    u_bd_right = model(x_right, t_bd)\n",
    "    g_right = g(x_right,t_bd)\n",
    "    g_right = g_right.reshape(u_bd_left.shape)\n",
    "    res_right = u_bd_right - g_right\n",
    "    \n",
    "    residual_bd = torch.concat((res_left, res_right))\n",
    "        \n",
    "    # initial\n",
    "    x_int = 2 * torch.rand(m_int, 1) - 1\n",
    "    t_int = torch.zeros(x_int.shape)\n",
    "    u_int = model(x_int, t_int)\n",
    "    residual_int = u_int - h(x_int).reshape(u_int.shape)\n",
    "    \n",
    "    return torch.mean(residual**2) + torch.Tensor([1e6])*(torch.mean(residual_int**2) + torch.mean(residual_bd**2))\n",
    "\n",
    "def train_pinn(model, optimizer, x, t, m_bd, m_int, f, g, h, epochs=1000):\n",
    "    \n",
    "    losses = []\n",
    "    for epoch in range(epochs):\n",
    "        \n",
    "        optimizer.zero_grad()\n",
    "        loss = loss_fn(model, x, t, m_bd, m_int, f, g, h)\n",
    "        loss.backward(retain_graph=True)\n",
    "        optimizer.step()\n",
    "        losses.append(loss.item())\n",
    "        if epoch % 1000 == 0:\n",
    "            print(f\"Epoch {epoch}, Loss: {loss.item()}\")\n",
    "    return losses"
   ]
  },
  {
   "cell_type": "markdown",
   "metadata": {},
   "source": [
    "# Rate -- number of collocation points"
   ]
  },
  {
   "cell_type": "code",
   "execution_count": 7,
   "metadata": {},
   "outputs": [
    {
     "name": "stdout",
     "output_type": "stream",
     "text": [
      "Epoch 0, Loss: 612866.2923041392\n",
      "Epoch 0, Loss: 767862.2935516168\n",
      "Epoch 0, Loss: 581739.4079821367\n",
      "Epoch 0, Loss: 546460.217132904\n",
      "Epoch 0, Loss: 530470.5090923845\n",
      "Epoch 0, Loss: 618546.7152969476\n",
      "Epoch 0, Loss: 614983.8768610292\n",
      "Epoch 0, Loss: 591738.397697645\n",
      "Epoch 0, Loss: 504643.3677810348\n"
     ]
    }
   ],
   "source": [
    "Points = [100,200,400]\n",
    "\n",
    "# dimension\n",
    "d = 1\n",
    "\n",
    "# test at random points\n",
    "m_test = 1024\n",
    "x_test = 2 * torch.rand(m_test,1) - 1\n",
    "t_test = torch.rand(m_test, 1)\n",
    "u_test = u_true(x_test, t_test).detach().numpy()\n",
    "\n",
    "# boundary\n",
    "m_bd = 100\n",
    "# initial condition\n",
    "m_int = 200\n",
    "# initialize model and optimizer\n",
    "\n",
    "\n",
    "N = 100\n",
    "epochs=[300,1000,1000]\n",
    "T = 3\n",
    "\n",
    "test_error = np.zeros((len(Points),T))\n",
    "\n",
    "for i in range(len(Points)):\n",
    "    \n",
    "    m_train = Points[i]\n",
    "    # generate training points\n",
    "    x_train = 2 * torch.rand(m_train, d, requires_grad=True) - 1\n",
    "    t_train = torch.rand(m_train, 1, requires_grad=True)\n",
    "    \n",
    "    for j in range(T):\n",
    "    \n",
    "        model_RF = ADERF(d+1, N, sigma=1)\n",
    "        optimizer = optim.Adam(model_RF.parameters(), lr=1e-2, weight_decay=0.0001)\n",
    "\n",
    "        # Train the model\n",
    "        losses = train_pinn(model_RF, optimizer, x_train, t_train, m_bd, m_int, f, g, h, epochs=epochs[i])\n",
    "    \n",
    "        RF_pred = model_RF(x_test, t_test).detach().numpy()\n",
    "        test_error[i,j] = (np.linalg.norm(RF_pred.reshape(u_test.shape) - u_test)**2 / np.size(u_test))"
   ]
  },
  {
   "cell_type": "code",
   "execution_count": 8,
   "metadata": {},
   "outputs": [
    {
     "data": {
      "image/png": "[encoded data removed]",
      "text/plain": [
       "<Figure size 432x288 with 1 Axes>"
      ]
     },
     "metadata": {
      "needs_background": "light"
     },
     "output_type": "display_data"
    }
   ],
   "source": [
    "k = np.polyfit(np.log(Points), np.log(np.mean(test_error,axis=1)), deg=1)[0]\n",
    "\n",
    "plt.loglog(Points, np.mean(test_error,axis=1), '-o', label=f'Slope = {k:.2f}', linewidth=2)\n",
    "plt.xlabel('Number of collocation points', size=15)\n",
    "plt.ylabel('Test error', size=15)\n",
    "plt.legend(fontsize=15)\n",
    "plt.savefig('Adv_rate_m.pdf', bbox_inches = 'tight')"
   ]
  },
  {
   "cell_type": "markdown",
   "metadata": {},
   "source": [
    "# Rate -- number of random features"
   ]
  },
  {
   "cell_type": "code",
   "execution_count": 6,
   "metadata": {},
   "outputs": [
    {
     "name": "stdout",
     "output_type": "stream",
     "text": [
      "Epoch 0, Loss: 479484.58317157696\n",
      "Epoch 0, Loss: 499205.94388204697\n",
      "Epoch 0, Loss: 569041.8041589413\n",
      "Epoch 0, Loss: 636336.6390797256\n",
      "Epoch 0, Loss: 543974.1355520575\n",
      "Epoch 0, Loss: 506587.7436667476\n",
      "Epoch 0, Loss: 612069.522924227\n",
      "Epoch 0, Loss: 566646.1961304065\n",
      "Epoch 0, Loss: 492011.9890162113\n",
      "Epoch 0, Loss: 632789.5036513355\n",
      "Epoch 0, Loss: 648809.77404708\n",
      "Epoch 0, Loss: 522925.85263309453\n",
      "Epoch 0, Loss: 528812.1795911626\n",
      "Epoch 0, Loss: 507365.8988283379\n",
      "Epoch 0, Loss: 632880.5870870859\n",
      "Epoch 0, Loss: 599155.7513787643\n",
      "Epoch 0, Loss: 533712.8395306668\n",
      "Epoch 0, Loss: 557568.5507904087\n",
      "Epoch 0, Loss: 543218.3891028306\n",
      "Epoch 0, Loss: 603404.7413331558\n",
      "Epoch 0, Loss: 590594.7761395276\n",
      "Epoch 0, Loss: 583360.8350703021\n",
      "Epoch 0, Loss: 590281.5568453547\n",
      "Epoch 0, Loss: 587985.7444885729\n",
      "Epoch 0, Loss: 612200.7350221018\n",
      "Epoch 0, Loss: 537514.5053096804\n",
      "Epoch 0, Loss: 637337.6850063009\n",
      "Epoch 0, Loss: 559770.0501270535\n",
      "Epoch 0, Loss: 523839.06319183175\n",
      "Epoch 0, Loss: 560546.7985862729\n"
     ]
    }
   ],
   "source": [
    "torch.manual_seed(1)\n",
    "# Define parameters and synthetic data\n",
    "m_train = 400\n",
    "\n",
    "d = 1\n",
    "\n",
    "# generate training points\n",
    "x_train = 2 * torch.rand(m_train, d, requires_grad=True) - 1\n",
    "t_train = torch.rand(m_train, 1, requires_grad=True)\n",
    "\n",
    "# test at random points\n",
    "m_test = 1024\n",
    "x_test = 2 * torch.rand(m_test,1) - 1\n",
    "t_test = torch.rand(m_test, 1)\n",
    "u_test = u_true(x_test, t_test).detach().numpy()\n",
    "\n",
    "# boundary\n",
    "m_bd = 100\n",
    "\n",
    "# initial condition\n",
    "m_int = 200\n",
    "\n",
    "# initialize model and optimizer\n",
    "T = 10\n",
    "N_range = [100,200,400]\n",
    "test_error = np.zeros((len(N_range),T))\n",
    "epochs = [50,600,600]\n",
    "for i in range(len(N_range)):\n",
    "    N = N_range[i]\n",
    "    for j in range(T):\n",
    "    \n",
    "        model_RF = ADERF(d+1, N, sigma=1)\n",
    "        optimizer = optim.Adam(model_RF.parameters(), lr=1e-2, weight_decay=0.0001)\n",
    "\n",
    "        # Train the model\n",
    "        losses = train_pinn(model_RF, optimizer, x_train, t_train, m_bd, m_int, f, g, h, epochs=epochs[i])\n",
    "    \n",
    "        RF_pred = model_RF(x_test, t_test).detach().numpy()\n",
    "        test_error[i,j] = np.linalg.norm(RF_pred.reshape(u_test.shape) - u_test)**2 / np.size(u_test)"
   ]
  },
  {
   "cell_type": "code",
   "execution_count": 9,
   "metadata": {},
   "outputs": [
    {
     "data": {
      "image/png": "[encoded data removed]",
      "text/plain": [
       "<Figure size 432x288 with 1 Axes>"
      ]
     },
     "metadata": {
      "needs_background": "light"
     },
     "output_type": "display_data"
    }
   ],
   "source": [
    "k_N = np.polyfit(np.log(N_range), np.log(np.mean(test_error,axis=1)), deg=1)[0]\n",
    "plt.loglog(N_range, np.mean(test_error,axis=1), '-o', label=f'Slope = {k_N:.2f}', linewidth=2)\n",
    "plt.xlabel('Number of random features', size=15)\n",
    "plt.ylabel('Test error', size=15)\n",
    "plt.legend(fontsize=15)\n",
    "plt.savefig('Adv_rate_N.pdf', bbox_inches = 'tight')"
   ]
  }
 ],
 "metadata": {
  "kernelspec": {
   "display_name": "Python 3",
   "language": "python",
   "name": "python3"
  },
  "language_info": {
   "codemirror_mode": {
    "name": "ipython",
    "version": 3
   },
   "file_extension": ".py",
   "mimetype": "text/x-python",
   "name": "python",
   "nbconvert_exporter": "python",
   "pygments_lexer": "ipython3",
   "version": "3.7.6"
  }
 },
 "nbformat": 4,
 "nbformat_minor": 4
}
