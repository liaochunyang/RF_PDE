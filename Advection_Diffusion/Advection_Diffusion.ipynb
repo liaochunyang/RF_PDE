{
 "cells": [
  {
   "cell_type": "markdown",
   "metadata": {},
   "source": [
    "# Advection Diffusion Equation"
   ]
  },
  {
   "cell_type": "code",
   "execution_count": 1,
   "metadata": {},
   "outputs": [],
   "source": [
    "import torch\n",
    "import torch.nn as nn\n",
    "import torch.optim as optim\n",
    "\n",
    "import numpy as np\n",
    "import matplotlib.pyplot as plt\n",
    "\n",
    "import time\n",
    "np.random.seed(2)\n",
    "torch.set_default_dtype(torch.float64)"
   ]
  },
  {
   "cell_type": "code",
   "execution_count": 2,
   "metadata": {},
   "outputs": [],
   "source": [
    "def u_true(x,t):\n",
    "    d = x.shape[1]\n",
    "    time = torch.exp(-t/d)\n",
    "    return torch.sin( x.sum(dim=1) / d ) * time.squeeze()\n",
    "\n",
    "def f(x,t):\n",
    "    \n",
    "    d = x.shape[1]\n",
    "    time = torch.exp(-t/d)\n",
    "    return torch.cos( x.sum(dim=1) / d ) * time.squeeze() / d\n",
    "\n",
    "def g(x, t):\n",
    "    return u_true(x, t)\n",
    "\n",
    "def h(x):\n",
    "    return torch.sin( x.sum(dim=1) / d )"
   ]
  },
  {
   "cell_type": "code",
   "execution_count": 3,
   "metadata": {},
   "outputs": [],
   "source": [
    "class ADERF(nn.Module):\n",
    "    \"\"\"\n",
    "    Generate random feature model\n",
    "    \"\"\"\n",
    "    def __init__(self, in_features, out_features, sigma=1.0):\n",
    "        super(ADERF, self).__init__()\n",
    "        \n",
    "        self.in_features = in_features\n",
    "        self.out_features = out_features\n",
    "        self.sigma = sigma\n",
    "        self.W = nn.Parameter(torch.randn(in_features, out_features) / sigma, requires_grad=False)\n",
    "        self.b = nn.Parameter(torch.rand(out_features) * 2 * torch.pi, requires_grad=False)\n",
    "        \n",
    "        self.model = nn.Sequential(nn.Linear(out_features, 1))\n",
    "\n",
    "        \n",
    "    def forward(self, x, t):\n",
    "        \n",
    "        inputs = torch.concat((x,t), dim=1)\n",
    "        u = self.model(torch.cos(inputs @ self.W + self.b) * torch.sqrt( torch.tensor([2 / self.out_features])))\n",
    "        return u\n",
    "    \n",
    "class ADE_PINN(nn.Module):\n",
    "    \"\"\"\n",
    "    Generate PINN \n",
    "    \"\"\"\n",
    "    def __init__(self):\n",
    "        super(ADE_PINN, self).__init__()\n",
    "        self.model = nn.Sequential(\n",
    "        nn.Linear(2,64),\n",
    "        nn.Tanh(),\n",
    "        nn.Linear(64,64),\n",
    "        nn.Tanh(),\n",
    "        nn.Linear(64,1))\n",
    "        \n",
    "    def forward(self,x,t):\n",
    "        \n",
    "        inputs = torch.cat((x,t), dim=1)\n",
    "        u = self.model(inputs)\n",
    "        return u\n",
    "    \n",
    "def loss_fn(model, x, t, m_bd, m_int, f, g, h):\n",
    "    \"\"\"\n",
    "    Compute the loss\n",
    "    \"\"\"\n",
    "    \n",
    "    d = x.shape[1]\n",
    "    \n",
    "    # interior:\n",
    "    u = model(x, t)\n",
    "\n",
    "    u_t = torch.autograd.grad(u, t, grad_outputs=torch.ones_like(u), create_graph=True)[0]\n",
    "    u_x = torch.autograd.grad(u, x, grad_outputs=torch.ones_like(u), create_graph=True)[0]\n",
    "    u_xx = torch.autograd.grad(u_x, x, grad_outputs=torch.ones_like(u_x), create_graph=True)[0]\n",
    "    \n",
    "    RHS = f(x, t)\n",
    "    RHS = RHS.reshape(u.shape)\n",
    "    \n",
    "    residual = u_t - torch.sum(u_xx, dim=1) + torch.sum(u_x, dim=1) / d - RHS\n",
    "    \n",
    "    # left boundary\n",
    "    t_bd = torch.rand(m_bd, 1)\n",
    "    x_left = - torch.ones(t_bd.shape)\n",
    "    u_bd_left = model(x_left, t_bd)\n",
    "    g_left = g(x_left,t_bd)\n",
    "    g_left = g_left.reshape(u_bd_left.shape)\n",
    "    res_left = u_bd_left - g_left\n",
    "    \n",
    "    # right boundary\n",
    "    t_bd = torch.rand(m_bd, 1)\n",
    "    x_right = torch.ones(t_bd.shape)\n",
    "    u_bd_right = model(x_right, t_bd)\n",
    "    g_right = g(x_right,t_bd)\n",
    "    g_right = g_right.reshape(u_bd_left.shape)\n",
    "    res_right = u_bd_right - g_right\n",
    "    \n",
    "    residual_bd = torch.concat((res_left, res_right))\n",
    "        \n",
    "    # initial\n",
    "    x_int = 2 * torch.rand(m_int, 1) - 1\n",
    "    t_int = torch.zeros(x_int.shape)\n",
    "    u_int = model(x_int, t_int)\n",
    "    residual_int = u_int - h(x_int).reshape(u_int.shape)\n",
    "    \n",
    "    return torch.mean(residual**2) + torch.Tensor([1e6])*(torch.mean(residual_int**2) + torch.mean(residual_bd**2))\n",
    "\n",
    "def train_pinn(model, optimizer, x, t, m_bd, m_int, f, g, h, epochs=1000):\n",
    "    \n",
    "    losses = []\n",
    "    for epoch in range(epochs):\n",
    "        \n",
    "        optimizer.zero_grad()\n",
    "        loss = loss_fn(model, x, t, m_bd, m_int, f, g, h)\n",
    "        loss.backward(retain_graph=True)\n",
    "        optimizer.step()\n",
    "        losses.append(loss.item())\n",
    "        if epoch % 1000 == 0:\n",
    "            print(f\"Epoch {epoch}, Loss: {loss.item()}\")\n",
    "    return losses"
   ]
  },
  {
   "cell_type": "code",
   "execution_count": 9,
   "metadata": {},
   "outputs": [],
   "source": [
    "class ADE_ELM(nn.Module):\n",
    "    \n",
    "    def __init__(self, in_features, out_features, R):\n",
    "        super(ADE_ELM, self).__init__()\n",
    "        \n",
    "        self.in_features = in_features\n",
    "        self.out_features = out_features\n",
    "        self.R = R\n",
    "        self.W = nn.Parameter(torch.rand(in_features, out_features) * 2 * R - R , requires_grad=False)\n",
    "        \n",
    "        self.model = nn.Sequential(nn.Linear(out_features, 1))\n",
    "    \n",
    "    def forward(self,x,t):\n",
    "        \n",
    "        inputs = torch.cat((x,t), dim=1)\n",
    "        u = self.model(torch.tanh(inputs @ self.W))\n",
    "        return u"
   ]
  },
  {
   "cell_type": "code",
   "execution_count": 5,
   "metadata": {},
   "outputs": [
    {
     "name": "stdout",
     "output_type": "stream",
     "text": [
      "Epoch 0, Loss: 616442.3604821168\n",
      "Computational time is 14.28\n",
      "Test error of RF is 4.82e-04\n"
     ]
    }
   ],
   "source": [
    "# Define parameters and synthetic data\n",
    "m_train = 1000\n",
    "x_train = 2 * torch.rand(m_train, 1, requires_grad=True) - 1\n",
    "t_train = torch.rand(m_train, 1, requires_grad=True)\n",
    "    \n",
    "# boundary condition\n",
    "m_bd = 100\n",
    "# initial condition\n",
    "m_int = 200\n",
    "\n",
    "# test at random points\n",
    "m_test = 1024\n",
    "x_test = 2 * torch.rand(m_test,1) - 1\n",
    "t_test = torch.rand(m_test, 1)\n",
    "u_test = u_true(x_test, t_test).detach().numpy()\n",
    "\n",
    "################ Random feature model\n",
    "# initialize model and optimizer\n",
    "d = 1\n",
    "N = 100\n",
    "model_RF = ADERF(d+1, N, sigma=1)\n",
    "optimizer = optim.Adam(model_RF.parameters(), lr=1e-2, weight_decay=0.0001)\n",
    "\n",
    "# Train the model\n",
    "start = time.time()\n",
    "losses = train_pinn(model_RF, optimizer, x_train, t_train, m_bd, m_int, f, g, h, epochs=600)\n",
    "end = time.time()\n",
    "print(f'Computational time is {end-start:.2f}')\n",
    "\n",
    "# RF prediction\n",
    "RF_pred = model_RF(x_test, t_test).detach().numpy()\n",
    "# compute test error \n",
    "RF_err = np.linalg.norm(RF_pred.reshape(u_test.shape) - u_test)**2 / np.size(u_test)\n",
    "print(f'Test error of RF is {RF_err:.2e}')"
   ]
  },
  {
   "cell_type": "code",
   "execution_count": 6,
   "metadata": {},
   "outputs": [
    {
     "data": {
      "image/png": "[encoded data removed]",
      "text/plain": [
       "<Figure size 432x288 with 1 Axes>"
      ]
     },
     "metadata": {
      "needs_background": "light"
     },
     "output_type": "display_data"
    },
    {
     "data": {
      "image/png": "[encoded data removed]",
      "text/plain": [
       "<Figure size 432x288 with 1 Axes>"
      ]
     },
     "metadata": {
      "needs_background": "light"
     },
     "output_type": "display_data"
    },
    {
     "data": {
      "image/png": "[encoded data removed]",
      "text/plain": [
       "<Figure size 432x288 with 1 Axes>"
      ]
     },
     "metadata": {
      "needs_background": "light"
     },
     "output_type": "display_data"
    }
   ],
   "source": [
    "x_grid = torch.linspace(-1,1,m_test).reshape(m_test,1)\n",
    "\n",
    "# visualization t = 0.1\n",
    "t_vis = 0.1\n",
    "t_vis = torch.ones(x_test.shape) * t_vis\n",
    "plt.figure(1)\n",
    "plt.plot(x_grid, model_RF(x_grid, t_vis).detach().numpy(), '--', c='red', label='Pred', linewidth=2)\n",
    "plt.plot(x_grid, u_true(x_grid, t_vis), c='blue', label='True', linewidth=2)\n",
    "plt.xlabel('x',size=15)\n",
    "plt.legend(fontsize=20)\n",
    "plt.savefig('Adv_t1.pdf', bbox_inches = 'tight')\n",
    "\n",
    "# visualization t = 0.5\n",
    "t_vis = 0.5\n",
    "t_vis = torch.ones(x_grid.shape) * t_vis\n",
    "plt.figure(2)\n",
    "plt.plot(x_grid, model_RF(x_grid, t_vis).detach().numpy(), '--', c='red', label='Pred', linewidth=2)\n",
    "plt.plot(x_grid, u_true(x_grid, t_vis), c='blue', label='True', linewidth=2)\n",
    "plt.xlabel('x',size=15)\n",
    "plt.legend(fontsize=20)\n",
    "plt.savefig('Adv_t2.pdf', bbox_inches = 'tight')\n",
    "\n",
    "# visualization t = 0.8\n",
    "t_vis = 0.9\n",
    "t_vis = torch.ones(x_grid.shape) * t_vis\n",
    "plt.figure(3)\n",
    "plt.plot(x_grid, model_RF(x_grid, t_vis).detach().numpy(), '--', c='red', label='Pred', linewidth=2)\n",
    "plt.plot(x_grid, u_true(x_grid, t_vis), c='blue', label='True', linewidth=2)\n",
    "plt.xlabel('x',size=15)\n",
    "plt.legend(fontsize=20)\n",
    "plt.savefig('Adv_t3.pdf', bbox_inches = 'tight')"
   ]
  },
  {
   "cell_type": "code",
   "execution_count": 7,
   "metadata": {},
   "outputs": [
    {
     "name": "stdout",
     "output_type": "stream",
     "text": [
      "Epoch 0, Loss: 639664.6768102593\n",
      "Computational time is 30.78\n",
      "Test error of RF is 4.64e-04\n"
     ]
    }
   ],
   "source": [
    "############## PINN\n",
    "model_PINN = ADE_PINN()\n",
    "optimizer = optim.Adam(model_PINN.parameters(), lr=1e-2)\n",
    "\n",
    "# Train the model\n",
    "start = time.time()\n",
    "losses = train_pinn(model_PINN, optimizer, x_train, t_train, m_bd, m_int, f, g, h, epochs=1000)\n",
    "end = time.time()\n",
    "print(f'Computational time is {end-start:.2f}')\n",
    "\n",
    "# RF prediction\n",
    "pinn_pred = model_PINN(x_test, t_test).detach().numpy()\n",
    "# compute test error \n",
    "pinn_err = np.linalg.norm(pinn_pred.reshape(u_test.shape) - u_test)**2 / np.size(u_test)\n",
    "print(f'Test error of PINN is {pinn_err:.2e}')"
   ]
  },
  {
   "cell_type": "code",
   "execution_count": 12,
   "metadata": {},
   "outputs": [
    {
     "name": "stdout",
     "output_type": "stream",
     "text": [
      "Epoch 0, Loss: 565917.7245413037\n",
      "Computational time is 23.48 seconds\n",
      "Test error of ELM model is 9.76e-03\n"
     ]
    }
   ],
   "source": [
    "################### ELM\n",
    "# initialize ELM model and optimizer\n",
    "model_ELM = ADE_ELM(2, N, R = 0.01)\n",
    "optimizer = optim.Adam(model_ELM.parameters(), lr=1e-2)\n",
    "# Train the model\n",
    "start = time.time()\n",
    "losses = train_pinn(model_ELM, optimizer, x_train, t_train, m_bd, m_int, f, g, h, epochs=1000)\n",
    "end = time.time()\n",
    "print(f'Computational time is {end-start:.2f} seconds')\n",
    "\n",
    "## test and prediction\n",
    "ELM_pred = model_ELM(x_test, t_test).detach().numpy()\n",
    "\n",
    "\n",
    "err_ELM = np.linalg.norm(ELM_pred.reshape(u_test.shape) - u_test)**2 / np.size(u_test)\n",
    "print(f'Test error of ELM model is {err_ELM:.2e}')"
   ]
  },
  {
   "cell_type": "markdown",
   "metadata": {},
   "source": [
    "# Rate -- number of collocation points"
   ]
  },
  {
   "cell_type": "code",
   "execution_count": 17,
   "metadata": {},
   "outputs": [
    {
     "name": "stdout",
     "output_type": "stream",
     "text": [
      "Epoch 0, Loss: 582085.2402027083\n",
      "Epoch 0, Loss: 721155.598879041\n",
      "Epoch 0, Loss: 608800.8705266654\n",
      "Epoch 0, Loss: 550974.370586517\n",
      "Epoch 0, Loss: 657626.1282799826\n",
      "Epoch 0, Loss: 588709.0562248473\n",
      "Epoch 0, Loss: 571433.0612764332\n",
      "Epoch 0, Loss: 520249.99197719054\n",
      "Epoch 0, Loss: 464400.7871308753\n"
     ]
    }
   ],
   "source": [
    "Points = [100,200,400]\n",
    "\n",
    "# dimension\n",
    "d = 1\n",
    "\n",
    "# test at random points\n",
    "m_test = 1024\n",
    "x_test = 2 * torch.rand(m_test,1) - 1\n",
    "t_test = torch.rand(m_test, 1)\n",
    "u_test = u_true(x_test, t_test).detach().numpy()\n",
    "\n",
    "# boundary\n",
    "m_bd = 100\n",
    "# initial condition\n",
    "m_int = 200\n",
    "# initialize model and optimizer\n",
    "\n",
    "\n",
    "N = 100\n",
    "epochs=[300,600,1000]\n",
    "T = 3\n",
    "\n",
    "test_error = np.zeros((len(Points),T))\n",
    "\n",
    "for i in range(len(Points)):\n",
    "    \n",
    "    m_train = Points[i]\n",
    "    # generate training points\n",
    "    x_train = 2 * torch.rand(m_train, d, requires_grad=True) - 1\n",
    "    t_train = torch.rand(m_train, 1, requires_grad=True)\n",
    "    \n",
    "    for j in range(T):\n",
    "    \n",
    "        model_RF = ADERF(d+1, N, sigma=1)\n",
    "        optimizer = optim.Adam(model_RF.parameters(), lr=1e-2, weight_decay=0.0001)\n",
    "\n",
    "        # Train the model\n",
    "        losses = train_pinn(model_RF, optimizer, x_train, t_train, m_bd, m_int, f, g, h, epochs=epochs[i])\n",
    "    \n",
    "        RF_pred = model_RF(x_test, t_test).detach().numpy()\n",
    "        test_error[i,j] = (np.linalg.norm(RF_pred.reshape(u_test.shape) - u_test)**2 / np.size(u_test))"
   ]
  },
  {
   "cell_type": "code",
   "execution_count": 18,
   "metadata": {},
   "outputs": [
    {
     "data": {
      "image/png": "[encoded data removed]",
      "text/plain": [
       "<Figure size 432x288 with 1 Axes>"
      ]
     },
     "metadata": {
      "needs_background": "light"
     },
     "output_type": "display_data"
    }
   ],
   "source": [
    "k = np.polyfit(np.log(Points), np.log(np.mean(test_error,axis=1)), deg=1)[0]\n",
    "\n",
    "plt.loglog(Points, np.mean(test_error,axis=1), '-o', label=f'Slope = {k:.2f}', linewidth=2)\n",
    "plt.xlabel('Number of collocation points', size=15)\n",
    "plt.ylabel('Test error', size=15)\n",
    "plt.legend(fontsize=15)\n",
    "plt.savefig('Adv_rate_m.pdf', bbox_inches = 'tight')"
   ]
  },
  {
   "cell_type": "markdown",
   "metadata": {},
   "source": [
    "# Rate -- number of random features"
   ]
  },
  {
   "cell_type": "code",
   "execution_count": 45,
   "metadata": {},
   "outputs": [
    {
     "name": "stdout",
     "output_type": "stream",
     "text": [
      "Epoch 0, Loss: 616521.3875792895\n",
      "Epoch 0, Loss: 573853.6660462788\n",
      "Epoch 0, Loss: 596475.6880255992\n",
      "Epoch 0, Loss: 577536.8909783827\n",
      "Epoch 0, Loss: 546854.3189326247\n",
      "Epoch 0, Loss: 534311.7929124001\n",
      "Epoch 0, Loss: 588538.5773614321\n",
      "Epoch 0, Loss: 629371.1908860812\n",
      "Epoch 0, Loss: 620142.8564148165\n",
      "Epoch 0, Loss: 618552.374562705\n",
      "Epoch 0, Loss: 605270.5772005225\n",
      "Epoch 0, Loss: 577456.5412547837\n",
      "Epoch 0, Loss: 622898.3701993271\n",
      "Epoch 0, Loss: 566149.7204909251\n",
      "Epoch 0, Loss: 614042.8649623547\n",
      "Epoch 0, Loss: 602152.2190869509\n",
      "Epoch 0, Loss: 563723.6619105154\n",
      "Epoch 0, Loss: 629147.0394874088\n"
     ]
    }
   ],
   "source": [
    "# Define parameters and synthetic data\n",
    "m_train = 200\n",
    "\n",
    "# generate training points\n",
    "x_train = 2 * torch.rand(m_train, d, requires_grad=True) - 1\n",
    "t_train = torch.rand(m_train, 1, requires_grad=True)\n",
    "\n",
    "# test at random points\n",
    "m_test = 1024\n",
    "x_test = 2 * torch.rand(m_test,1) - 1\n",
    "t_test = torch.rand(m_test, 1)\n",
    "u_test = u_true(x_test, t_test).detach().numpy()\n",
    "\n",
    "# boundary\n",
    "m_bd = 100\n",
    "\n",
    "# initial condition\n",
    "m_int = 200\n",
    "\n",
    "# initialize model and optimizer\n",
    "d = 1\n",
    "T = 6\n",
    "test_error = np.zeros((len(N_range),T))\n",
    "N_range = [100,200,400]\n",
    "epochs = [200,300,600]\n",
    "for i in range(len(N_range)):\n",
    "    \n",
    "    for j in range(T):\n",
    "    \n",
    "        model_RF = ADERF(d+1, N, sigma=1)\n",
    "        optimizer = optim.Adam(model_RF.parameters(), lr=1e-2, weight_decay=0.0001)\n",
    "\n",
    "        # Train the model\n",
    "        losses = train_pinn(model_RF, optimizer, x_train, t_train, m_bd, m_int, f, g, h, epochs=epochs[i])\n",
    "    \n",
    "        RF_pred = model_RF(x_test, t_test).detach().numpy()\n",
    "        test_error[i,j] = np.linalg.norm(RF_pred.reshape(u_test.shape) - u_test)**2 / np.size(u_test)"
   ]
  },
  {
   "cell_type": "code",
   "execution_count": 46,
   "metadata": {},
   "outputs": [
    {
     "data": {
      "image/png": "[encoded data removed]",
      "text/plain": [
       "<Figure size 432x288 with 1 Axes>"
      ]
     },
     "metadata": {
      "needs_background": "light"
     },
     "output_type": "display_data"
    }
   ],
   "source": [
    "k_N = np.polyfit(np.log(N_range), np.log(np.mean(test_error,axis=1)), deg=1)[0]\n",
    "plt.loglog(N_range, np.mean(test_error,axis=1), '-o', label=f'Slope = {k_N:.2f}', linewidth=2)\n",
    "plt.xlabel('Number of random features', size=15)\n",
    "plt.ylabel('Test error', size=15)\n",
    "plt.legend(fontsize=15)\n",
    "plt.savefig('Adv_rate_N.pdf', bbox_inches = 'tight')"
   ]
  }
 ],
 "metadata": {
  "kernelspec": {
   "display_name": "Python 3",
   "language": "python",
   "name": "python3"
  },
  "language_info": {
   "codemirror_mode": {
    "name": "ipython",
    "version": 3
   },
   "file_extension": ".py",
   "mimetype": "text/x-python",
   "name": "python",
   "nbconvert_exporter": "python",
   "pygments_lexer": "ipython3",
   "version": "3.7.6"
  }
 },
 "nbformat": 4,
 "nbformat_minor": 4
}
