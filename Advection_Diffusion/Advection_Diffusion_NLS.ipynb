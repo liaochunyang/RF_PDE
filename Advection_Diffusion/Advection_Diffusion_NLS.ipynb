{
 "cells": [
  {
   "cell_type": "markdown",
   "metadata": {},
   "source": [
    "# Advection Diffusion Equation"
   ]
  },
  {
   "cell_type": "code",
   "execution_count": 1,
   "metadata": {},
   "outputs": [],
   "source": [
    "import torch\n",
    "import torch.nn as nn\n",
    "import torch.optim as optim\n",
    "\n",
    "import numpy as np\n",
    "import matplotlib.pyplot as plt\n",
    "\n",
    "import time\n",
    "torch.set_default_dtype(torch.float64)"
   ]
  },
  {
   "cell_type": "code",
   "execution_count": 2,
   "metadata": {},
   "outputs": [],
   "source": [
    "def u_true(x):\n",
    "    return np.sin(x[:,0]) * np.exp(-x[:,1])\n",
    "\n",
    "def f(x):\n",
    "    return np.cos(x[:,0]) * np.exp(x[:,1])\n",
    "\n",
    "\n",
    "def g(x):\n",
    "    return u_true(x)\n",
    "\n",
    "def h(x):\n",
    "    return np.sin(x[:,0])"
   ]
  },
  {
   "cell_type": "code",
   "execution_count": 3,
   "metadata": {},
   "outputs": [],
   "source": [
    "def samples(m_train, m_bd, m_int):\n",
    "    \n",
    "    # interior points and time\n",
    "    x_train = np.random.uniform(-1, 1, size=(m_train, 1))\n",
    "    t_train = np.random.randn(m_train, 1)\n",
    "    inputs = np.concatenate((x_train,t_train), axis=1)\n",
    "    \n",
    "    \n",
    "    # boundary points\n",
    "    # left boundary\n",
    "    t_left = np.random.rand(m_bd, 1)\n",
    "    x_left = - np.ones(t_left.shape)\n",
    "    left = np.concatenate((x_left,t_left), axis=1)\n",
    "    # right boundary\n",
    "    t_right = np.random.rand(m_bd, 1)\n",
    "    x_right = np.ones(t_right.shape)\n",
    "    right = np.concatenate((x_right, t_right), axis=1)\n",
    "    bd = np.concatenate((left,right))\n",
    "    \n",
    "    # initial points\n",
    "    x_int = np.random.uniform(-1, 1, size=(m_int, 1))\n",
    "    t_int = np.zeros(x_int.shape)\n",
    "    initial = np.concatenate((x_int, t_int), axis=1)\n",
    "    \n",
    "    return inputs, bd, initial"
   ]
  },
  {
   "cell_type": "code",
   "execution_count": 4,
   "metadata": {},
   "outputs": [
    {
     "name": "stdout",
     "output_type": "stream",
     "text": [
      "0.05697370622639651\n",
      "0.01 seconds\n"
     ]
    }
   ],
   "source": [
    "# Generate training samples\n",
    "# number of interior points\n",
    "m_train = 1000    \n",
    "# number of boundary points\n",
    "m_bd = 100\n",
    "# number of initial points\n",
    "m_int = 200\n",
    "\n",
    "x_inputs, x_bd, x_initial = samples(m_train, m_bd, m_int)\n",
    "\n",
    "\n",
    "# test at random points\n",
    "m_test = 1024\n",
    "x_test = np.random.uniform(-1,1,size=(m_test,1) )\n",
    "t_test = np.random.rand(m_test, 1)\n",
    "test = np.concatenate((x_test,t_test), axis=1)\n",
    "u_truth = u_true(test)\n",
    "\n",
    "# generate random features\n",
    "N = 1000\n",
    "sigma = 3\n",
    "W = np.random.randn(2,N) / sigma\n",
    "b = np.random.uniform(0,2*np.pi, size=(N,))\n",
    "\n",
    "# generate random feature matrices\n",
    "A1 = np.cos(x_inputs @ W + b)\n",
    "A2 = np.sin(x_inputs @ W + b)\n",
    "\n",
    "# generate left matrix\n",
    "B1 = - A2 * W[1] + A1 * (W[0] ** 2) - A2 * W[0]\n",
    "\n",
    "A = np.row_stack( (B1, np.cos(x_bd @ W + b), np.cos(x_initial @ W + b) ) )\n",
    "y = np.concatenate( (f(x_inputs), g(x_bd), h(x_initial)) )   \n",
    "\n",
    "#c = np.linalg.solve(A.T @ A + 1e-3 * np.eye(N), A.T@y)\n",
    "start = time.time()\n",
    "c = np.linalg.pinv(A) @ y\n",
    "end = time.time()\n",
    "# \n",
    "u_test = np.cos(test @ W + b) @ c\n",
    "\n",
    "err = np.mean( (u_truth - u_test)**2 )\n",
    "print(err)\n",
    "print(f'{end-start:.2f} seconds')"
   ]
  },
  {
   "cell_type": "code",
   "execution_count": 5,
   "metadata": {},
   "outputs": [
    {
     "name": "stdout",
     "output_type": "stream",
     "text": [
      "0.03376980438901909\n",
      "0.21 seconds\n"
     ]
    }
   ],
   "source": [
    "# generate random features\n",
    "N = 1000\n",
    "sigma1 = 20\n",
    "sigma2 = 10000\n",
    "W1 = np.random.randn(1,N) / sigma1\n",
    "W2 = np.random.randn(1,N) / sigma2\n",
    "W = np.concatenate((W1,W2))\n",
    "b = np.random.uniform(0,2*np.pi, size=(N,))\n",
    "\n",
    "# generate random feature matrices\n",
    "A1 = np.cos(x_inputs @ W + b)\n",
    "A2 = np.sin(x_inputs @ W + b)\n",
    "\n",
    "# generate left matrix\n",
    "B1 = - A2 * W2 + A1 * (W1 ** 2) - A2 * W1\n",
    "\n",
    "A = np.row_stack( (B1, np.cos(x_bd @ W + b), np.cos(x_initial @ W + b) ) )\n",
    "y = np.concatenate( (f(x_inputs), g(x_bd), h(x_initial)) )   \n",
    "\n",
    "#c = np.linalg.solve(A.T @ A + 1e-3 * np.eye(N), A.T@y)\n",
    "start = time.time()\n",
    "c = np.linalg.pinv(A) @ y\n",
    "end = time.time()\n",
    "\n",
    "# \n",
    "u_test = np.cos(test @ W + b) @ c\n",
    "\n",
    "err = np.mean( (u_truth - u_test)**2 )\n",
    "print(err)\n",
    "print(f'{end-start:.2f} seconds')"
   ]
  },
  {
   "cell_type": "code",
   "execution_count": 6,
   "metadata": {},
   "outputs": [
    {
     "name": "stdout",
     "output_type": "stream",
     "text": [
      "0.035288078510435174\n",
      "0.23 seconds\n"
     ]
    }
   ],
   "source": [
    "# ELM\n",
    "\n",
    "# generate random features\n",
    "N = 1000\n",
    "R = 5\n",
    "W = np.random.uniform(-R,R,size=(2,N))\n",
    "\n",
    "# generate random feature matrices\n",
    "A1 = np.tanh(x_inputs @ W)\n",
    "\n",
    "# generate left matrix\n",
    "B1 = (1 - A1**2) * (W[1] + W[0]) + 2 * A1 * (1-A1**2) * (W[0] ** 2)\n",
    "\n",
    "A = np.row_stack( (B1, np.tanh(x_bd @ W), np.tanh(x_initial @ W) ) )\n",
    "y = np.concatenate( (f(x_inputs), g(x_bd), h(x_initial)) )   \n",
    "\n",
    "#c = np.linalg.solve(A.T @ A + 1e-3 * np.eye(N), A.T@y)\n",
    "start = time.time()\n",
    "c = np.linalg.pinv(A) @ y\n",
    "end = time.time()\n",
    "\n",
    "# \n",
    "u_test = np.tanh(test @ W) @ c\n",
    "\n",
    "err = np.mean( (u_truth - u_test)**2 )\n",
    "print(err)\n",
    "print(f'{end-start:.2f} seconds')"
   ]
  }
 ],
 "metadata": {
  "kernelspec": {
   "display_name": "Python 3",
   "language": "python",
   "name": "python3"
  },
  "language_info": {
   "codemirror_mode": {
    "name": "ipython",
    "version": 3
   },
   "file_extension": ".py",
   "mimetype": "text/x-python",
   "name": "python",
   "nbconvert_exporter": "python",
   "pygments_lexer": "ipython3",
   "version": "3.7.6"
  }
 },
 "nbformat": 4,
 "nbformat_minor": 4
}
